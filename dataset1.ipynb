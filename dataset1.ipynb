{
 "cells": [
  {
   "cell_type": "code",
   "execution_count": 2,
   "id": "38a4392d-b5be-4fce-bbc5-fb22b73a4274",
   "metadata": {},
   "outputs": [],
   "source": [
    "import pandas as pd"
   ]
  },
  {
   "cell_type": "code",
   "execution_count": 4,
   "id": "6119ab02-da9d-418f-8e33-c4a24e2b6eb1",
   "metadata": {},
   "outputs": [
    {
     "data": {
      "text/html": [
       "<div>\n",
       "<style scoped>\n",
       "    .dataframe tbody tr th:only-of-type {\n",
       "        vertical-align: middle;\n",
       "    }\n",
       "\n",
       "    .dataframe tbody tr th {\n",
       "        vertical-align: top;\n",
       "    }\n",
       "\n",
       "    .dataframe thead th {\n",
       "        text-align: right;\n",
       "    }\n",
       "</style>\n",
       "<table border=\"1\" class=\"dataframe\">\n",
       "  <thead>\n",
       "    <tr style=\"text-align: right;\">\n",
       "      <th></th>\n",
       "      <th>departments</th>\n",
       "      <th>emp</th>\n",
       "      <th>salary</th>\n",
       "      <th>bonus</th>\n",
       "    </tr>\n",
       "  </thead>\n",
       "  <tbody>\n",
       "    <tr>\n",
       "      <th>0</th>\n",
       "      <td>HR</td>\n",
       "      <td>evaarah</td>\n",
       "      <td>10000</td>\n",
       "      <td>3500</td>\n",
       "    </tr>\n",
       "    <tr>\n",
       "      <th>1</th>\n",
       "      <td>DevOp</td>\n",
       "      <td>vamika</td>\n",
       "      <td>120030</td>\n",
       "      <td>4500</td>\n",
       "    </tr>\n",
       "    <tr>\n",
       "      <th>2</th>\n",
       "      <td>technical</td>\n",
       "      <td>vedika</td>\n",
       "      <td>346000</td>\n",
       "      <td>6500</td>\n",
       "    </tr>\n",
       "    <tr>\n",
       "      <th>3</th>\n",
       "      <td>HR</td>\n",
       "      <td>raha</td>\n",
       "      <td>450000</td>\n",
       "      <td>3420</td>\n",
       "    </tr>\n",
       "    <tr>\n",
       "      <th>4</th>\n",
       "      <td>DevOp</td>\n",
       "      <td>shraddha</td>\n",
       "      <td>167800</td>\n",
       "      <td>1230</td>\n",
       "    </tr>\n",
       "    <tr>\n",
       "      <th>5</th>\n",
       "      <td>technical</td>\n",
       "      <td>sakshi</td>\n",
       "      <td>347900</td>\n",
       "      <td>3780</td>\n",
       "    </tr>\n",
       "  </tbody>\n",
       "</table>\n",
       "</div>"
      ],
      "text/plain": [
       "  departments       emp  salary  bonus\n",
       "0          HR   evaarah   10000   3500\n",
       "1       DevOp    vamika  120030   4500\n",
       "2   technical    vedika  346000   6500\n",
       "3          HR      raha  450000   3420\n",
       "4       DevOp  shraddha  167800   1230\n",
       "5   technical    sakshi  347900   3780"
      ]
     },
     "execution_count": 4,
     "metadata": {},
     "output_type": "execute_result"
    }
   ],
   "source": [
    "data={\n",
    "     \"departments\":[\"HR\",\"DevOp\",\"technical\",\"HR\",\"DevOp\",\"technical\"],\n",
    "    \"emp\":[\"evaarah\",\"vamika\",\"vedika\",\"raha\",\"shraddha\",\"sakshi\"],\n",
    "    \"salary\":[10000,120030,346000,450000,167800,347900],\n",
    "    \"bonus\":[3500,4500,6500,3420,1230,3780]\n",
    "    }\n",
    "df=pd.DataFrame(data)\n",
    "df"
   ]
  },
  {
   "cell_type": "code",
   "execution_count": 10,
   "id": "0b3a5367-2cd8-4dd3-80f9-ce0e53e7b1b2",
   "metadata": {},
   "outputs": [
    {
     "data": {
      "text/plain": [
       "departments\n",
       "DevOp        167800\n",
       "HR           450000\n",
       "technical    347900\n",
       "Name: salary, dtype: int64"
      ]
     },
     "execution_count": 10,
     "metadata": {},
     "output_type": "execute_result"
    }
   ],
   "source": [
    "df2=df.groupby(\"departments\")[\"salary\"].max()\n",
    "df2"
   ]
  },
  {
   "cell_type": "code",
   "execution_count": 14,
   "id": "6d3e4e71-5896-4d8c-86ba-da04124c5e26",
   "metadata": {},
   "outputs": [
    {
     "data": {
      "text/plain": [
       "departments\n",
       "DevOp         5730\n",
       "HR            6920\n",
       "technical    10280\n",
       "Name: bonus, dtype: int64"
      ]
     },
     "execution_count": 14,
     "metadata": {},
     "output_type": "execute_result"
    }
   ],
   "source": [
    "df3=df.groupby(\"departments\")[\"bonus\"].sum()\n",
    "df3"
   ]
  },
  {
   "cell_type": "code",
   "execution_count": 17,
   "id": "bcfd1218-7b74-4022-a95f-7b20b302fbe3",
   "metadata": {},
   "outputs": [
    {
     "data": {
      "text/plain": [
       "departments\n",
       "DevOp        2\n",
       "HR           2\n",
       "technical    2\n",
       "Name: emp, dtype: int64"
      ]
     },
     "execution_count": 17,
     "metadata": {},
     "output_type": "execute_result"
    }
   ],
   "source": [
    "df4=df.groupby(\"departments\")[\"emp\"].count()\n",
    "df4"
   ]
  },
  {
   "cell_type": "code",
   "execution_count": 18,
   "id": "7fc31739-5684-4b33-8e05-650fe53bfbec",
   "metadata": {},
   "outputs": [
    {
     "data": {
      "text/plain": [
       "np.int64(0)"
      ]
     },
     "execution_count": 18,
     "metadata": {},
     "output_type": "execute_result"
    }
   ],
   "source": [
    "df5=df[df[\"departments\"]==\"DevOps\"][\"emp\"].count()\n",
    "df5"
   ]
  },
  {
   "cell_type": "code",
   "execution_count": 15,
   "id": "3d0057dd-a92b-4d08-9e1f-9973d74912aa",
   "metadata": {},
   "outputs": [
    {
     "data": {
      "text/html": [
       "<div>\n",
       "<style scoped>\n",
       "    .dataframe tbody tr th:only-of-type {\n",
       "        vertical-align: middle;\n",
       "    }\n",
       "\n",
       "    .dataframe tbody tr th {\n",
       "        vertical-align: top;\n",
       "    }\n",
       "\n",
       "    .dataframe thead th {\n",
       "        text-align: right;\n",
       "    }\n",
       "</style>\n",
       "<table border=\"1\" class=\"dataframe\">\n",
       "  <thead>\n",
       "    <tr style=\"text-align: right;\">\n",
       "      <th></th>\n",
       "      <th>departments</th>\n",
       "      <th>emp</th>\n",
       "      <th>salary</th>\n",
       "      <th>bonus</th>\n",
       "    </tr>\n",
       "  </thead>\n",
       "  <tbody>\n",
       "    <tr>\n",
       "      <th>0</th>\n",
       "      <td>HR</td>\n",
       "      <td>evaarah</td>\n",
       "      <td>10000</td>\n",
       "      <td>NaN</td>\n",
       "    </tr>\n",
       "    <tr>\n",
       "      <th>1</th>\n",
       "      <td>DevOp</td>\n",
       "      <td>vamika</td>\n",
       "      <td>120030</td>\n",
       "      <td>4500.0</td>\n",
       "    </tr>\n",
       "    <tr>\n",
       "      <th>2</th>\n",
       "      <td>technical</td>\n",
       "      <td>vedika</td>\n",
       "      <td>346000</td>\n",
       "      <td>6500.0</td>\n",
       "    </tr>\n",
       "    <tr>\n",
       "      <th>3</th>\n",
       "      <td>HR</td>\n",
       "      <td>None</td>\n",
       "      <td>450000</td>\n",
       "      <td>3420.0</td>\n",
       "    </tr>\n",
       "    <tr>\n",
       "      <th>4</th>\n",
       "      <td>DevOp</td>\n",
       "      <td>shraddha</td>\n",
       "      <td>167800</td>\n",
       "      <td>1230.0</td>\n",
       "    </tr>\n",
       "    <tr>\n",
       "      <th>5</th>\n",
       "      <td>None</td>\n",
       "      <td>sakshi</td>\n",
       "      <td>347900</td>\n",
       "      <td>3780.0</td>\n",
       "    </tr>\n",
       "  </tbody>\n",
       "</table>\n",
       "</div>"
      ],
      "text/plain": [
       "  departments       emp  salary   bonus\n",
       "0          HR   evaarah   10000     NaN\n",
       "1       DevOp    vamika  120030  4500.0\n",
       "2   technical    vedika  346000  6500.0\n",
       "3          HR      None  450000  3420.0\n",
       "4       DevOp  shraddha  167800  1230.0\n",
       "5        None    sakshi  347900  3780.0"
      ]
     },
     "execution_count": 15,
     "metadata": {},
     "output_type": "execute_result"
    }
   ],
   "source": [
    "import pandas as pd\n",
    "import numpy as np\n",
    "data={\n",
    "    \"departments\":[\"HR\",\"DevOp\",\"technical\",\"HR\",\"DevOp\",None],\n",
    "    \"emp\":[\"evaarah\",\"vamika\",\"vedika\",None,\"shraddha\",\"sakshi\"],\n",
    "    \"salary\":[10000,120030,346000,450000,167800,347900],\n",
    "    \"bonus\":[np.nan,4500,6500,3420,1230,3780]\n",
    "}\n",
    "df6=pd.DataFrame(data)\n",
    "df6\n"
   ]
  },
  {
   "cell_type": "code",
   "execution_count": 20,
   "id": "6a0a7d6e-22a6-4834-be72-2cd96c3e7073",
   "metadata": {},
   "outputs": [
    {
     "data": {
      "text/html": [
       "<div>\n",
       "<style scoped>\n",
       "    .dataframe tbody tr th:only-of-type {\n",
       "        vertical-align: middle;\n",
       "    }\n",
       "\n",
       "    .dataframe tbody tr th {\n",
       "        vertical-align: top;\n",
       "    }\n",
       "\n",
       "    .dataframe thead th {\n",
       "        text-align: right;\n",
       "    }\n",
       "</style>\n",
       "<table border=\"1\" class=\"dataframe\">\n",
       "  <thead>\n",
       "    <tr style=\"text-align: right;\">\n",
       "      <th></th>\n",
       "      <th>departments</th>\n",
       "      <th>emp</th>\n",
       "      <th>salary</th>\n",
       "      <th>bonus</th>\n",
       "    </tr>\n",
       "  </thead>\n",
       "  <tbody>\n",
       "    <tr>\n",
       "      <th>1</th>\n",
       "      <td>DevOp</td>\n",
       "      <td>vamika</td>\n",
       "      <td>120030</td>\n",
       "      <td>4500.0</td>\n",
       "    </tr>\n",
       "    <tr>\n",
       "      <th>2</th>\n",
       "      <td>technical</td>\n",
       "      <td>vedika</td>\n",
       "      <td>346000</td>\n",
       "      <td>6500.0</td>\n",
       "    </tr>\n",
       "    <tr>\n",
       "      <th>4</th>\n",
       "      <td>DevOp</td>\n",
       "      <td>shraddha</td>\n",
       "      <td>167800</td>\n",
       "      <td>1230.0</td>\n",
       "    </tr>\n",
       "  </tbody>\n",
       "</table>\n",
       "</div>"
      ],
      "text/plain": [
       "  departments       emp  salary   bonus\n",
       "1       DevOp    vamika  120030  4500.0\n",
       "2   technical    vedika  346000  6500.0\n",
       "4       DevOp  shraddha  167800  1230.0"
      ]
     },
     "execution_count": 20,
     "metadata": {},
     "output_type": "execute_result"
    }
   ],
   "source": [
    "df_drop=df6.dropna()\n",
    "df_drop"
   ]
  },
  {
   "cell_type": "code",
   "execution_count": 29,
   "id": "e8f96f13-30a3-4b85-b63e-9d21da832a93",
   "metadata": {},
   "outputs": [
    {
     "name": "stderr",
     "output_type": "stream",
     "text": [
      "C:\\Users\\BHAGYASHRI JADHAV\\AppData\\Local\\Temp\\ipykernel_16156\\1707778160.py:1: FutureWarning: A value is trying to be set on a copy of a DataFrame or Series through chained assignment using an inplace method.\n",
      "The behavior will change in pandas 3.0. This inplace method will never work because the intermediate object on which we are setting values always behaves as a copy.\n",
      "\n",
      "For example, when doing 'df[col].method(value, inplace=True)', try using 'df.method({col: value}, inplace=True)' or df[col] = df[col].method(value) instead, to perform the operation inplace on the original object.\n",
      "\n",
      "\n",
      "  df6_mean=df6[\"bonus\"].fillna(df6[\"bonus\"].mean(),inplace=True)\n"
     ]
    }
   ],
   "source": [
    "df6_mean=df6[\"\"].fillna(df6[\"\"].mean(),inplace=True)\n",
    "df6_mean"
   ]
  },
  {
   "cell_type": "code",
   "execution_count": 31,
   "id": "93a67bd6-98eb-42c6-9083-5894b6805fec",
   "metadata": {},
   "outputs": [
    {
     "data": {
      "text/plain": [
       "np.float64(240288.33333333334)"
      ]
     },
     "execution_count": 31,
     "metadata": {},
     "output_type": "execute_result"
    }
   ],
   "source": [
    "df7=df[\"salary\"].mean()\n",
    "df7"
   ]
  },
  {
   "cell_type": "code",
   "execution_count": null,
   "id": "435540cc-46b1-4f31-acfa-318b2e39f8d6",
   "metadata": {},
   "outputs": [],
   "source": []
  }
 ],
 "metadata": {
  "kernelspec": {
   "display_name": "Python 3 (ipykernel)",
   "language": "python",
   "name": "python3"
  },
  "language_info": {
   "codemirror_mode": {
    "name": "ipython",
    "version": 3
   },
   "file_extension": ".py",
   "mimetype": "text/x-python",
   "name": "python",
   "nbconvert_exporter": "python",
   "pygments_lexer": "ipython3",
   "version": "3.13.5"
  }
 },
 "nbformat": 4,
 "nbformat_minor": 5
}
