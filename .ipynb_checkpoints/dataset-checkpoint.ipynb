{
 "cells": [
  {
   "cell_type": "code",
   "execution_count": 3,
   "id": "4635b3b8-4653-4538-bf0f-43ca11b01515",
   "metadata": {},
   "outputs": [],
   "source": [
    "import pandas as pd\n",
    "import numpy as np\n",
    "import matplotlib as plt\n",
    "import seaborn as sns"
   ]
  },
  {
   "cell_type": "code",
   "execution_count": null,
   "id": "831cadcc-19ca-4fff-b567-1d580f086f18",
   "metadata": {},
   "outputs": [],
   "source": [
    "df=pd.read.csv(\"electronic_data_set\")"
   ]
  },
  {
   "cell_type": "code",
   "execution_count": null,
   "id": "65358d64-41e4-45a6-afaa-1620175a9807",
   "metadata": {},
   "outputs": [],
   "source": []
  }
 ],
 "metadata": {
  "kernelspec": {
   "display_name": "Python 3 (ipykernel)",
   "language": "python",
   "name": "python3"
  },
  "language_info": {
   "codemirror_mode": {
    "name": "ipython",
    "version": 3
   },
   "file_extension": ".py",
   "mimetype": "text/x-python",
   "name": "python",
   "nbconvert_exporter": "python",
   "pygments_lexer": "ipython3",
   "version": "3.13.5"
  }
 },
 "nbformat": 4,
 "nbformat_minor": 5
}
