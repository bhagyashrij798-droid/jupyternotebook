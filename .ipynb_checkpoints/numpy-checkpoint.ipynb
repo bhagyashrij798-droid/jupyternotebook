{
 "cells": [
  {
   "cell_type": "code",
   "execution_count": 1,
   "id": "b023873a-0d06-4fa0-be47-b1bec462f50c",
   "metadata": {},
   "outputs": [],
   "source": [
    "import numpy as np"
   ]
  },
  {
   "cell_type": "code",
   "execution_count": 2,
   "id": "0ed6c095-dd58-4585-97b8-ca69832340dc",
   "metadata": {},
   "outputs": [],
   "source": [
    "a=np.array([1,2,3,4,5])"
   ]
  },
  {
   "cell_type": "code",
   "execution_count": 3,
   "id": "8c05b648-eca9-4c03-86c9-d9dd8f1bde90",
   "metadata": {},
   "outputs": [
    {
     "data": {
      "text/plain": [
       "(5,)"
      ]
     },
     "execution_count": 3,
     "metadata": {},
     "output_type": "execute_result"
    }
   ],
   "source": [
    "a.shape"
   ]
  },
  {
   "cell_type": "code",
   "execution_count": 4,
   "id": "fc8494f3-bd28-47a8-8fa8-503d8aa71817",
   "metadata": {},
   "outputs": [],
   "source": [
    "b=np.array([1,2,3,4,5])"
   ]
  },
  {
   "cell_type": "code",
   "execution_count": 6,
   "id": "ada19b57-0ad0-49b3-8072-bf65411f0c48",
   "metadata": {},
   "outputs": [
    {
     "data": {
      "text/plain": [
       "5"
      ]
     },
     "execution_count": 6,
     "metadata": {},
     "output_type": "execute_result"
    }
   ],
   "source": [
    "a.size"
   ]
  },
  {
   "cell_type": "code",
   "execution_count": 4,
   "id": "6c5bd717-abcc-4b72-8d8e-f9e8597b0c06",
   "metadata": {},
   "outputs": [],
   "source": [
    "import numpy as np"
   ]
  },
  {
   "cell_type": "code",
   "execution_count": 5,
   "id": "68d72ec2-78b4-4017-9a36-897673f5ff12",
   "metadata": {},
   "outputs": [],
   "source": [
    "c=np.array([[[[1,2,3]]]])"
   ]
  },
  {
   "cell_type": "code",
   "execution_count": 6,
   "id": "eccdd3f6-0776-423a-a46e-1ba11f7e51de",
   "metadata": {},
   "outputs": [
    {
     "data": {
      "text/plain": [
       "4"
      ]
     },
     "execution_count": 6,
     "metadata": {},
     "output_type": "execute_result"
    }
   ],
   "source": [
    "c.ndim"
   ]
  },
  {
   "cell_type": "code",
   "execution_count": 19,
   "id": "7a2c02cd-0347-4e32-8e2b-dcbec65fc04f",
   "metadata": {},
   "outputs": [],
   "source": [
    "import numpy as np"
   ]
  },
  {
   "cell_type": "code",
   "execution_count": 8,
   "id": "2ead827b-d13b-450b-90f5-07e13e417839",
   "metadata": {},
   "outputs": [],
   "source": [
    "d=np.array([1,2,3,4,5])"
   ]
  },
  {
   "cell_type": "code",
   "execution_count": 11,
   "id": "7bee6279-a5f1-4bbb-82bb-8ee4726cf5b9",
   "metadata": {},
   "outputs": [
    {
     "data": {
      "text/plain": [
       "dtype('int64')"
      ]
     },
     "execution_count": 11,
     "metadata": {},
     "output_type": "execute_result"
    }
   ],
   "source": [
    "d.dtype"
   ]
  },
  {
   "cell_type": "code",
   "execution_count": 13,
   "id": "98819e41-78b2-4cfb-95c9-e1034ad51108",
   "metadata": {},
   "outputs": [],
   "source": [
    "g=np.array([1,2,3,4,5])"
   ]
  },
  {
   "cell_type": "code",
   "execution_count": 18,
   "id": "a2f25210-e6c0-4de5-bf42-3f68ceca155c",
   "metadata": {},
   "outputs": [
    {
     "name": "stdout",
     "output_type": "stream",
     "text": [
      " object()\n",
      "\n",
      "The base class of the class hierarchy.\n",
      "\n",
      "When called, it accepts no arguments and returns a new featureless\n",
      "instance that has no instance attributes and cannot be given any.\n"
     ]
    }
   ],
   "source": [
    "np.info(object)"
   ]
  },
  {
   "cell_type": "code",
   "execution_count": 28,
   "id": "755d46eb-eff2-49f5-9b87-f2d9c5caa97e",
   "metadata": {},
   "outputs": [],
   "source": [
    "import numpy as np"
   ]
  },
  {
   "cell_type": "raw",
   "id": "b5057a45-039e-493d-a126-3e1cf087dd6c",
   "metadata": {},
   "source": [
    "c=np.array[1,2,3,4]"
   ]
  },
  {
   "cell_type": "code",
   "execution_count": 31,
   "id": "ff83ba56-23f2-459f-90a9-db441f782759",
   "metadata": {},
   "outputs": [
    {
     "ename": "TypeError",
     "evalue": "'builtin_function_or_method' object is not subscriptable",
     "output_type": "error",
     "traceback": [
      "\u001b[31m---------------------------------------------------------------------------\u001b[39m",
      "\u001b[31mTypeError\u001b[39m                                 Traceback (most recent call last)",
      "\u001b[36mCell\u001b[39m\u001b[36m \u001b[39m\u001b[32mIn[31]\u001b[39m\u001b[32m, line 1\u001b[39m\n\u001b[32m----> \u001b[39m\u001b[32m1\u001b[39m b=\u001b[43mnp\u001b[49m\u001b[43m.\u001b[49m\u001b[43mzeros\u001b[49m\u001b[43m[\u001b[49m\u001b[32;43m5\u001b[39;49m\u001b[43m]\u001b[49m\n",
      "\u001b[31mTypeError\u001b[39m: 'builtin_function_or_method' object is not subscriptable"
     ]
    }
   ],
   "source": [
    "b=np.zeros[5]"
   ]
  },
  {
   "cell_type": "code",
   "execution_count": null,
   "id": "12c775c5-f574-40c7-a64d-e088224d61cf",
   "metadata": {},
   "outputs": [],
   "source": []
  },
  {
   "cell_type": "code",
   "execution_count": 32,
   "id": "c31388c4-80c1-48ad-ab8a-0d9e2e6839cd",
   "metadata": {},
   "outputs": [],
   "source": [
    "b=np.zeros(5)"
   ]
  },
  {
   "cell_type": "code",
   "execution_count": 33,
   "id": "37709b01-acfc-441e-8dec-584ef77d52f1",
   "metadata": {},
   "outputs": [
    {
     "data": {
      "text/plain": [
       "array([0., 0., 0., 0., 0.])"
      ]
     },
     "execution_count": 33,
     "metadata": {},
     "output_type": "execute_result"
    }
   ],
   "source": [
    "b"
   ]
  },
  {
   "cell_type": "code",
   "execution_count": 34,
   "id": "dd7e596b-63bf-4965-bb94-66b78bdedb41",
   "metadata": {},
   "outputs": [],
   "source": [
    "import numpy as np"
   ]
  },
  {
   "cell_type": "code",
   "execution_count": 35,
   "id": "3b814cc8-4784-4be7-aace-fb963714e03f",
   "metadata": {},
   "outputs": [
    {
     "ename": "TypeError",
     "evalue": "'builtin_function_or_method' object is not subscriptable",
     "output_type": "error",
     "traceback": [
      "\u001b[31m---------------------------------------------------------------------------\u001b[39m",
      "\u001b[31mTypeError\u001b[39m                                 Traceback (most recent call last)",
      "\u001b[36mCell\u001b[39m\u001b[36m \u001b[39m\u001b[32mIn[35]\u001b[39m\u001b[32m, line 1\u001b[39m\n\u001b[32m----> \u001b[39m\u001b[32m1\u001b[39m a=\u001b[43mnp\u001b[49m\u001b[43m.\u001b[49m\u001b[43marray\u001b[49m\u001b[43m[\u001b[49m\u001b[32;43m1\u001b[39;49m\u001b[43m,\u001b[49m\u001b[32;43m2\u001b[39;49m\u001b[43m,\u001b[49m\u001b[32;43m3\u001b[39;49m\u001b[43m,\u001b[49m\u001b[32;43m4\u001b[39;49m\u001b[43m,\u001b[49m\u001b[32;43m5\u001b[39;49m\u001b[43m]\u001b[49m\n",
      "\u001b[31mTypeError\u001b[39m: 'builtin_function_or_method' object is not subscriptable"
     ]
    }
   ],
   "source": [
    "a=np.array[1,2,3,4,5]\n"
   ]
  },
  {
   "cell_type": "code",
   "execution_count": 36,
   "id": "d69bca75-086d-4f45-bc28-c8a9f78f0654",
   "metadata": {},
   "outputs": [
    {
     "ename": "AttributeError",
     "evalue": "module 'numpy' has no attribute 'onces'",
     "output_type": "error",
     "traceback": [
      "\u001b[31m---------------------------------------------------------------------------\u001b[39m",
      "\u001b[31mAttributeError\u001b[39m                            Traceback (most recent call last)",
      "\u001b[36mCell\u001b[39m\u001b[36m \u001b[39m\u001b[32mIn[36]\u001b[39m\u001b[32m, line 1\u001b[39m\n\u001b[32m----> \u001b[39m\u001b[32m1\u001b[39m a=\u001b[43mnp\u001b[49m\u001b[43m.\u001b[49m\u001b[43monces\u001b[49m(\u001b[32m3\u001b[39m)\n",
      "\u001b[36mFile \u001b[39m\u001b[32m~\\AppData\\Local\\Programs\\Python\\Python313\\Lib\\site-packages\\numpy\\__init__.py:808\u001b[39m, in \u001b[36m__getattr__\u001b[39m\u001b[34m(attr)\u001b[39m\n\u001b[32m    805\u001b[39m     \u001b[38;5;28;01mimport\u001b[39;00m\u001b[38;5;250m \u001b[39m\u001b[34;01mnumpy\u001b[39;00m\u001b[34;01m.\u001b[39;00m\u001b[34;01mchar\u001b[39;00m\u001b[38;5;250m \u001b[39m\u001b[38;5;28;01mas\u001b[39;00m\u001b[38;5;250m \u001b[39m\u001b[34;01mchar\u001b[39;00m\n\u001b[32m    806\u001b[39m     \u001b[38;5;28;01mreturn\u001b[39;00m char.chararray\n\u001b[32m--> \u001b[39m\u001b[32m808\u001b[39m \u001b[38;5;28;01mraise\u001b[39;00m \u001b[38;5;167;01mAttributeError\u001b[39;00m(\u001b[33mf\u001b[39m\u001b[33m\"\u001b[39m\u001b[33mmodule \u001b[39m\u001b[38;5;132;01m{\u001b[39;00m\u001b[34m__name__\u001b[39m\u001b[38;5;132;01m!r}\u001b[39;00m\u001b[33m has no attribute \u001b[39m\u001b[38;5;132;01m{\u001b[39;00mattr\u001b[38;5;132;01m!r}\u001b[39;00m\u001b[33m\"\u001b[39m)\n",
      "\u001b[31mAttributeError\u001b[39m: module 'numpy' has no attribute 'onces'"
     ]
    }
   ],
   "source": [
    "a=np.onces(3)\n",
    "\n"
   ]
  },
  {
   "cell_type": "code",
   "execution_count": 37,
   "id": "92ccd9bd-ec76-4470-8487-549db7a88040",
   "metadata": {},
   "outputs": [
    {
     "data": {
      "text/plain": [
       "array([1, 2, 3, 4])"
      ]
     },
     "execution_count": 37,
     "metadata": {},
     "output_type": "execute_result"
    }
   ],
   "source": [
    "a"
   ]
  },
  {
   "cell_type": "code",
   "execution_count": 51,
   "id": "7c8476cb-7c63-4fe8-aa3d-8dd323c154a7",
   "metadata": {},
   "outputs": [],
   "source": [
    "import  numpy as np"
   ]
  },
  {
   "cell_type": "code",
   "execution_count": 48,
   "id": "0bcbc68b-b2a8-4637-8e48-8f7b81362952",
   "metadata": {},
   "outputs": [],
   "source": [
    "a=[[1,0,0],[0,1,0],[0,1,1]]"
   ]
  },
  {
   "cell_type": "code",
   "execution_count": 50,
   "id": "7dcc38a2-cf01-45af-be83-300f2b25d0fb",
   "metadata": {},
   "outputs": [
    {
     "name": "stdout",
     "output_type": "stream",
     "text": [
      "not identity matrix\n"
     ]
    }
   ],
   "source": [
    "flag=True\n",
    "for i in range(0,3):\n",
    "    for j in range(0,3):\n",
    "        if((i==j and a[i][j]!=1) or (i!=j and a[i][j]!=0)):\n",
    "            flag=False\n",
    "            break\n",
    "if flag==True:\n",
    "    print(\"identity matrix\")\n",
    "else:\n",
    "    print(\"not identity matrix\")"
   ]
  },
  {
   "cell_type": "code",
   "execution_count": 52,
   "id": "d3b49b9a-f5ea-4f32-9d51-6c345a5937be",
   "metadata": {},
   "outputs": [],
   "source": [
    "a=[[1,2,3],[4,5,6],[7,8,9]]"
   ]
  },
  {
   "cell_type": "code",
   "execution_count": 57,
   "id": "fdb2a358-dbe7-450a-bc36-392b4c7ce197",
   "metadata": {},
   "outputs": [
    {
     "name": "stdout",
     "output_type": "stream",
     "text": [
      "([0, 0], [0, 0], [1, 1], [3, 3])\n",
      "([0, 1], [0, 0], [1, 1], [3, 3])\n",
      "([0, 2], [0, 0], [1, 1], [3, 3])\n",
      "([1, 0], [0, 0], [1, 1], [3, 3])\n",
      "([1, 1], [0, 0], [1, 1], [3, 3])\n",
      "([1, 2], [0, 0], [1, 1], [3, 3])\n",
      "([2, 0], [0, 0], [1, 1], [3, 3])\n",
      "([2, 1], [0, 0], [1, 1], [3, 3])\n",
      "([2, 2], [0, 0], [1, 1], [3, 3])\n"
     ]
    }
   ],
   "source": [
    "\n",
    "s=sum\n",
    "for m in range(0,3):\n",
    "    for n in range(0,3):\n",
    "        sum=[m]+[n],[0,0],[1,1],[3,3]\n",
    "        print(sum)\n",
    "        \n",
    "        \n",
    "            \n",
    "        "
   ]
  },
  {
   "cell_type": "code",
   "execution_count": 58,
   "id": "e1ea605e-d9a4-492f-b4d3-ef940ecc21b1",
   "metadata": {},
   "outputs": [],
   "source": [
    "k = [[1,2,3],[4,5,6],[7,8,9]]"
   ]
  },
  {
   "cell_type": "code",
   "execution_count": 59,
   "id": "b49871d7-e504-4fea-9b63-c945999b064d",
   "metadata": {},
   "outputs": [],
   "source": [
    "sum = 0"
   ]
  },
  {
   "cell_type": "code",
   "execution_count": 60,
   "id": "43d369a4-5976-4197-9ac4-2504b288808b",
   "metadata": {},
   "outputs": [],
   "source": [
    "for i in range(0,3):\n",
    "    for j in range(0,3):\n",
    "        sum = sum + k[i][j]\n"
   ]
  },
  {
   "cell_type": "code",
   "execution_count": 61,
   "id": "541944b3-1cf4-4e0c-a6d1-de29cf395774",
   "metadata": {},
   "outputs": [
    {
     "data": {
      "text/plain": [
       "45"
      ]
     },
     "execution_count": 61,
     "metadata": {},
     "output_type": "execute_result"
    }
   ],
   "source": [
    "sum"
   ]
  },
  {
   "cell_type": "code",
   "execution_count": 62,
   "id": "7906cdd9-9555-4b82-a290-6621abfbb636",
   "metadata": {},
   "outputs": [],
   "source": [
    "sum = 0\n",
    "for i in range(0,3):\n",
    "    for j in range(0,3):\n",
    "        if i==j:\n",
    "         sum = sum + k[i][j]\n"
   ]
  },
  {
   "cell_type": "code",
   "execution_count": 63,
   "id": "3201fd5d-b6b0-4871-bbff-9c8426424397",
   "metadata": {},
   "outputs": [
    {
     "data": {
      "text/plain": [
       "15"
      ]
     },
     "execution_count": 63,
     "metadata": {},
     "output_type": "execute_result"
    }
   ],
   "source": [
    "sum"
   ]
  },
  {
   "cell_type": "code",
   "execution_count": 5,
   "id": "8f1fe9cf-9c73-4ffa-a303-381c9fd7974f",
   "metadata": {},
   "outputs": [],
   "source": [
    "\n",
    "import numpy as np\n",
    "a=[[1,2,3],[4,5,6],[7,8,9]]\n",
    "\n",
    "sum = 0\n",
    "for i in range(0,3):\n",
    "    for j in range(0,3):\n",
    "        if i>j:\n",
    "         sum = sum + a[i][j]"
   ]
  },
  {
   "cell_type": "code",
   "execution_count": 6,
   "id": "fe716293-d607-4655-b985-53ad5d98f833",
   "metadata": {},
   "outputs": [],
   "source": [
    "import numpy as np"
   ]
  },
  {
   "cell_type": "code",
   "execution_count": 11,
   "id": "c69f848d-08ea-402a-aa01-4c6714910574",
   "metadata": {},
   "outputs": [
    {
     "data": {
      "text/plain": [
       "array([40, 42, 26, 10, 49,  6, 11, 35, 15, 22], dtype=int32)"
      ]
     },
     "execution_count": 11,
     "metadata": {},
     "output_type": "execute_result"
    }
   ],
   "source": [
    "array=np.random.randint(1,51,size=10)\n",
    "array\n"
   ]
  },
  {
   "cell_type": "code",
   "execution_count": 17,
   "id": "8942ce76-10ec-493c-9543-012b935975f9",
   "metadata": {},
   "outputs": [
    {
     "data": {
      "text/plain": [
       "array([2])"
      ]
     },
     "execution_count": 17,
     "metadata": {},
     "output_type": "execute_result"
    }
   ],
   "source": [
    "condition= (array>25)&(array<35)\n",
    "result=np.where(b)[0]\n",
    "result"
   ]
  },
  {
   "cell_type": "code",
   "execution_count": 18,
   "id": "624afa5b-128c-4e93-a95b-f6ab4fdba0f2",
   "metadata": {},
   "outputs": [
    {
     "data": {
      "text/plain": [
       "array([2])"
      ]
     },
     "execution_count": 18,
     "metadata": {},
     "output_type": "execute_result"
    }
   ],
   "source": [
    "result=np.where(condition)[0]\n",
    "result\n"
   ]
  },
  {
   "cell_type": "code",
   "execution_count": 32,
   "id": "13a984ca-c2d0-4803-a6c4-1b14c81582d4",
   "metadata": {},
   "outputs": [],
   "source": [
    "import numpy as np"
   ]
  },
  {
   "cell_type": "code",
   "execution_count": 37,
   "id": "148c11b6-f4d6-45b7-ab16-c5dd9cb06263",
   "metadata": {},
   "outputs": [
    {
     "data": {
      "text/plain": [
       "np.int64(676)"
      ]
     },
     "execution_count": 37,
     "metadata": {},
     "output_type": "execute_result"
    }
   ],
   "source": [
    "array=np.arange(1,101)\n",
    "b=(array%4==0) & (array%8!=0)\n",
    "result=np.sum(array[b])\n",
    "result"
   ]
  },
  {
   "cell_type": "code",
   "execution_count": 51,
   "id": "c0999a9f-ea13-4280-8176-6681b2d3170d",
   "metadata": {},
   "outputs": [],
   "source": [
    "import numpy as np\n",
    "a=np.array([1,2,9,4,5])\n",
    "\n",
    "a.sort()\n"
   ]
  },
  {
   "cell_type": "code",
   "execution_count": 52,
   "id": "d59d5d36-496f-48fb-9190-47f7e32edd9a",
   "metadata": {},
   "outputs": [
    {
     "data": {
      "text/plain": [
       "array([1, 2, 4, 5, 9])"
      ]
     },
     "execution_count": 52,
     "metadata": {},
     "output_type": "execute_result"
    }
   ],
   "source": [
    "a"
   ]
  },
  {
   "cell_type": "code",
   "execution_count": 62,
   "id": "a7424e88-c292-4aa0-ab40-9f68f04c48ae",
   "metadata": {},
   "outputs": [],
   "source": [
    "import pandas as pd"
   ]
  },
  {
   "cell_type": "code",
   "execution_count": 63,
   "id": "7de9eb76-3738-4583-ae38-482483828f51",
   "metadata": {},
   "outputs": [],
   "source": [
    "DG={\n",
    "    \"name\":[\"bhagya\",\"shruti\",\"ovee\"],\n",
    "    \"salary\":[100,200,300],\n",
    "    \"age\":[18,19,20]\n",
    "}\n",
    "df=pd.DataFrame(DG)"
   ]
  },
  {
   "cell_type": "code",
   "execution_count": 65,
   "id": "9f12cf45-f282-463a-9b24-a20487e2b8ea",
   "metadata": {},
   "outputs": [
    {
     "data": {
      "text/html": [
       "<div>\n",
       "<style scoped>\n",
       "    .dataframe tbody tr th:only-of-type {\n",
       "        vertical-align: middle;\n",
       "    }\n",
       "\n",
       "    .dataframe tbody tr th {\n",
       "        vertical-align: top;\n",
       "    }\n",
       "\n",
       "    .dataframe thead th {\n",
       "        text-align: right;\n",
       "    }\n",
       "</style>\n",
       "<table border=\"1\" class=\"dataframe\">\n",
       "  <thead>\n",
       "    <tr style=\"text-align: right;\">\n",
       "      <th></th>\n",
       "      <th>name</th>\n",
       "      <th>salary</th>\n",
       "      <th>age</th>\n",
       "    </tr>\n",
       "  </thead>\n",
       "  <tbody>\n",
       "    <tr>\n",
       "      <th>0</th>\n",
       "      <td>bhagya</td>\n",
       "      <td>100</td>\n",
       "      <td>18</td>\n",
       "    </tr>\n",
       "    <tr>\n",
       "      <th>1</th>\n",
       "      <td>shruti</td>\n",
       "      <td>200</td>\n",
       "      <td>19</td>\n",
       "    </tr>\n",
       "    <tr>\n",
       "      <th>2</th>\n",
       "      <td>ovee</td>\n",
       "      <td>300</td>\n",
       "      <td>20</td>\n",
       "    </tr>\n",
       "  </tbody>\n",
       "</table>\n",
       "</div>"
      ],
      "text/plain": [
       "     name  salary  age\n",
       "0  bhagya     100   18\n",
       "1  shruti     200   19\n",
       "2    ovee     300   20"
      ]
     },
     "execution_count": 65,
     "metadata": {},
     "output_type": "execute_result"
    }
   ],
   "source": [
    "df"
   ]
  },
  {
   "cell_type": "code",
   "execution_count": 66,
   "id": "28330775-ed3a-4b20-be62-5ac4caa75baf",
   "metadata": {},
   "outputs": [],
   "source": [
    "result=df[df[\"salary\"] < 250]"
   ]
  },
  {
   "cell_type": "code",
   "execution_count": 67,
   "id": "2f399bd0-b5a7-42dd-88f3-16239f901435",
   "metadata": {},
   "outputs": [
    {
     "data": {
      "text/html": [
       "<div>\n",
       "<style scoped>\n",
       "    .dataframe tbody tr th:only-of-type {\n",
       "        vertical-align: middle;\n",
       "    }\n",
       "\n",
       "    .dataframe tbody tr th {\n",
       "        vertical-align: top;\n",
       "    }\n",
       "\n",
       "    .dataframe thead th {\n",
       "        text-align: right;\n",
       "    }\n",
       "</style>\n",
       "<table border=\"1\" class=\"dataframe\">\n",
       "  <thead>\n",
       "    <tr style=\"text-align: right;\">\n",
       "      <th></th>\n",
       "      <th>name</th>\n",
       "      <th>salary</th>\n",
       "      <th>age</th>\n",
       "    </tr>\n",
       "  </thead>\n",
       "  <tbody>\n",
       "    <tr>\n",
       "      <th>0</th>\n",
       "      <td>bhagya</td>\n",
       "      <td>100</td>\n",
       "      <td>18</td>\n",
       "    </tr>\n",
       "    <tr>\n",
       "      <th>1</th>\n",
       "      <td>shruti</td>\n",
       "      <td>200</td>\n",
       "      <td>19</td>\n",
       "    </tr>\n",
       "  </tbody>\n",
       "</table>\n",
       "</div>"
      ],
      "text/plain": [
       "     name  salary  age\n",
       "0  bhagya     100   18\n",
       "1  shruti     200   19"
      ]
     },
     "execution_count": 67,
     "metadata": {},
     "output_type": "execute_result"
    }
   ],
   "source": [
    "result"
   ]
  },
  {
   "cell_type": "code",
   "execution_count": null,
   "id": "285a3c55-29b5-4c49-806f-118cc627b1e5",
   "metadata": {},
   "outputs": [],
   "source": []
  }
 ],
 "metadata": {
  "kernelspec": {
   "display_name": "Python 3 (ipykernel)",
   "language": "python",
   "name": "python3"
  },
  "language_info": {
   "codemirror_mode": {
    "name": "ipython",
    "version": 3
   },
   "file_extension": ".py",
   "mimetype": "text/x-python",
   "name": "python",
   "nbconvert_exporter": "python",
   "pygments_lexer": "ipython3",
   "version": "3.13.5"
  }
 },
 "nbformat": 4,
 "nbformat_minor": 5
}
