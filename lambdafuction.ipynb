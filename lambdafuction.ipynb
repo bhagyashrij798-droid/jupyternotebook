{
 "cells": [
  {
   "cell_type": "code",
   "execution_count": 1,
   "id": "78ec8ce2-71ea-49c8-854c-030ccde8840d",
   "metadata": {},
   "outputs": [
    {
     "name": "stdout",
     "output_type": "stream",
     "text": [
      "25\n"
     ]
    }
   ],
   "source": [
    "test=lambda x:x**2\n",
    "print(test(5))"
   ]
  },
  {
   "cell_type": "code",
   "execution_count": 2,
   "id": "9e51e90b-c0a1-41ac-a2ea-ae5c67bf4678",
   "metadata": {},
   "outputs": [],
   "source": [
    "add=lambda x,y:x+y"
   ]
  },
  {
   "cell_type": "code",
   "execution_count": 4,
   "id": "fb5e50af-c891-4d41-afde-a8aa5e9698fb",
   "metadata": {},
   "outputs": [
    {
     "name": "stdout",
     "output_type": "stream",
     "text": [
      "12\n"
     ]
    }
   ],
   "source": [
    "print(add(5,7))"
   ]
  },
  {
   "cell_type": "code",
   "execution_count": 8,
   "id": "9e4c9ded-5ab3-45cf-9658-1c7e3fd40fe5",
   "metadata": {},
   "outputs": [],
   "source": [
    "sub=lambda x,y:x^y"
   ]
  },
  {
   "cell_type": "code",
   "execution_count": 9,
   "id": "d9742af9-f677-4b3f-9089-7d2a9ab840db",
   "metadata": {},
   "outputs": [
    {
     "name": "stdout",
     "output_type": "stream",
     "text": [
      "1\n"
     ]
    }
   ],
   "source": [
    "print(sub(2,3))"
   ]
  },
  {
   "cell_type": "code",
   "execution_count": 10,
   "id": "9f4db837-931b-4cb2-8ef3-1819f223656f",
   "metadata": {},
   "outputs": [],
   "source": [
    "muti=lambda x,y:x*y"
   ]
  },
  {
   "cell_type": "code",
   "execution_count": 11,
   "id": "9eb2d4c6-e7dd-4d32-8c29-6dfe86e42d8f",
   "metadata": {},
   "outputs": [
    {
     "name": "stdout",
     "output_type": "stream",
     "text": [
      "9\n"
     ]
    }
   ],
   "source": [
    "print(muti(3,3))"
   ]
  },
  {
   "cell_type": "code",
   "execution_count": 12,
   "id": "5c83f170-6b6c-4195-9753-333b1eeb86d3",
   "metadata": {},
   "outputs": [],
   "source": [
    "div=lambda x,y:x/y"
   ]
  },
  {
   "cell_type": "code",
   "execution_count": 13,
   "id": "803a68b0-3ca5-459d-9b7b-75fbdf3cd615",
   "metadata": {},
   "outputs": [
    {
     "name": "stdout",
     "output_type": "stream",
     "text": [
      "1.0\n"
     ]
    }
   ],
   "source": [
    "print(div(5,5))"
   ]
  },
  {
   "cell_type": "code",
   "execution_count": 25,
   "id": "03cfc256-bc42-4e08-a0cf-7d6dda721d92",
   "metadata": {},
   "outputs": [],
   "source": [
    "import pandas as pd"
   ]
  },
  {
   "cell_type": "code",
   "execution_count": 20,
   "id": "5c04894a-d9eb-4a0c-a13a-b688d161c706",
   "metadata": {},
   "outputs": [],
   "source": [
    "df={\"name\":[\"shruti\",\"bhagya\"],\n",
    "    \"age\":[21,22]\n",
    "   }"
   ]
  },
  {
   "cell_type": "code",
   "execution_count": 21,
   "id": "10d6f4e0-3d35-4b2e-aca6-805fb8181519",
   "metadata": {},
   "outputs": [],
   "source": [
    "df=pd.DataFrame(df)"
   ]
  },
  {
   "cell_type": "code",
   "execution_count": 23,
   "id": "925dcb57-8299-4fcf-a7d2-5821eaf3d4f2",
   "metadata": {},
   "outputs": [],
   "source": [
    "df[\"newage\"]=df[\"age\"].apply(lambda x:x+5)"
   ]
  },
  {
   "cell_type": "code",
   "execution_count": 24,
   "id": "68856939-b42f-43bc-968f-8224b268431d",
   "metadata": {},
   "outputs": [
    {
     "name": "stdout",
     "output_type": "stream",
     "text": [
      "     name  age  newage\n",
      "0  shruti   21      26\n",
      "1  bhagya   22      27\n"
     ]
    }
   ],
   "source": [
    "print(df)"
   ]
  },
  {
   "cell_type": "code",
   "execution_count": 32,
   "id": "c0c031cf-80c3-42f6-b7fd-827079aa5522",
   "metadata": {},
   "outputs": [],
   "source": [
    "import pandas as pd"
   ]
  },
  {
   "cell_type": "code",
   "execution_count": 35,
   "id": "7b3abbf8-a804-4cfd-913d-fc3858036a62",
   "metadata": {},
   "outputs": [],
   "source": [
    "df=pd.read_csv(\"Employee_Salary_Dataset.csv\")"
   ]
  },
  {
   "cell_type": "code",
   "execution_count": 36,
   "id": "b6b4d2c0-ec33-47fd-a5fa-c9a27b84baae",
   "metadata": {},
   "outputs": [
    {
     "data": {
      "text/html": [
       "<div>\n",
       "<style scoped>\n",
       "    .dataframe tbody tr th:only-of-type {\n",
       "        vertical-align: middle;\n",
       "    }\n",
       "\n",
       "    .dataframe tbody tr th {\n",
       "        vertical-align: top;\n",
       "    }\n",
       "\n",
       "    .dataframe thead th {\n",
       "        text-align: right;\n",
       "    }\n",
       "</style>\n",
       "<table border=\"1\" class=\"dataframe\">\n",
       "  <thead>\n",
       "    <tr style=\"text-align: right;\">\n",
       "      <th></th>\n",
       "      <th>ID</th>\n",
       "      <th>Experience_Years</th>\n",
       "      <th>Age</th>\n",
       "      <th>Gender</th>\n",
       "      <th>Salary</th>\n",
       "    </tr>\n",
       "  </thead>\n",
       "  <tbody>\n",
       "    <tr>\n",
       "      <th>0</th>\n",
       "      <td>1</td>\n",
       "      <td>5</td>\n",
       "      <td>28</td>\n",
       "      <td>Female</td>\n",
       "      <td>250000</td>\n",
       "    </tr>\n",
       "    <tr>\n",
       "      <th>1</th>\n",
       "      <td>2</td>\n",
       "      <td>1</td>\n",
       "      <td>21</td>\n",
       "      <td>Male</td>\n",
       "      <td>50000</td>\n",
       "    </tr>\n",
       "    <tr>\n",
       "      <th>2</th>\n",
       "      <td>3</td>\n",
       "      <td>3</td>\n",
       "      <td>23</td>\n",
       "      <td>male</td>\n",
       "      <td>170000</td>\n",
       "    </tr>\n",
       "    <tr>\n",
       "      <th>3</th>\n",
       "      <td>4</td>\n",
       "      <td>2</td>\n",
       "      <td>22</td>\n",
       "      <td>Male</td>\n",
       "      <td>25000</td>\n",
       "    </tr>\n",
       "    <tr>\n",
       "      <th>4</th>\n",
       "      <td>5</td>\n",
       "      <td>1</td>\n",
       "      <td>17</td>\n",
       "      <td>Male</td>\n",
       "      <td>10000</td>\n",
       "    </tr>\n",
       "    <tr>\n",
       "      <th>5</th>\n",
       "      <td>6</td>\n",
       "      <td>25</td>\n",
       "      <td>62</td>\n",
       "      <td>Male</td>\n",
       "      <td>5001000</td>\n",
       "    </tr>\n",
       "    <tr>\n",
       "      <th>6</th>\n",
       "      <td>7</td>\n",
       "      <td>19</td>\n",
       "      <td>54</td>\n",
       "      <td>Female</td>\n",
       "      <td>800000</td>\n",
       "    </tr>\n",
       "    <tr>\n",
       "      <th>7</th>\n",
       "      <td>8</td>\n",
       "      <td>2</td>\n",
       "      <td>21</td>\n",
       "      <td>Female</td>\n",
       "      <td>9000</td>\n",
       "    </tr>\n",
       "    <tr>\n",
       "      <th>8</th>\n",
       "      <td>9</td>\n",
       "      <td>10</td>\n",
       "      <td>36</td>\n",
       "      <td>Female</td>\n",
       "      <td>61500</td>\n",
       "    </tr>\n",
       "    <tr>\n",
       "      <th>9</th>\n",
       "      <td>10</td>\n",
       "      <td>15</td>\n",
       "      <td>54</td>\n",
       "      <td>Female</td>\n",
       "      <td>650000</td>\n",
       "    </tr>\n",
       "    <tr>\n",
       "      <th>10</th>\n",
       "      <td>11</td>\n",
       "      <td>4</td>\n",
       "      <td>26</td>\n",
       "      <td>Female</td>\n",
       "      <td>250000</td>\n",
       "    </tr>\n",
       "    <tr>\n",
       "      <th>11</th>\n",
       "      <td>12</td>\n",
       "      <td>6</td>\n",
       "      <td>29</td>\n",
       "      <td>Male</td>\n",
       "      <td>1400000</td>\n",
       "    </tr>\n",
       "    <tr>\n",
       "      <th>12</th>\n",
       "      <td>13</td>\n",
       "      <td>14</td>\n",
       "      <td>39</td>\n",
       "      <td>Male</td>\n",
       "      <td>6000050</td>\n",
       "    </tr>\n",
       "    <tr>\n",
       "      <th>13</th>\n",
       "      <td>14</td>\n",
       "      <td>11</td>\n",
       "      <td>40</td>\n",
       "      <td>Male</td>\n",
       "      <td>220100</td>\n",
       "    </tr>\n",
       "    <tr>\n",
       "      <th>14</th>\n",
       "      <td>15</td>\n",
       "      <td>2</td>\n",
       "      <td>23</td>\n",
       "      <td>Male</td>\n",
       "      <td>7500</td>\n",
       "    </tr>\n",
       "    <tr>\n",
       "      <th>15</th>\n",
       "      <td>16</td>\n",
       "      <td>4</td>\n",
       "      <td>27</td>\n",
       "      <td>Female</td>\n",
       "      <td>87000</td>\n",
       "    </tr>\n",
       "    <tr>\n",
       "      <th>16</th>\n",
       "      <td>17</td>\n",
       "      <td>10</td>\n",
       "      <td>34</td>\n",
       "      <td>Female</td>\n",
       "      <td>930000</td>\n",
       "    </tr>\n",
       "    <tr>\n",
       "      <th>17</th>\n",
       "      <td>18</td>\n",
       "      <td>15</td>\n",
       "      <td>54</td>\n",
       "      <td>Female</td>\n",
       "      <td>7900000</td>\n",
       "    </tr>\n",
       "    <tr>\n",
       "      <th>18</th>\n",
       "      <td>19</td>\n",
       "      <td>2</td>\n",
       "      <td>21</td>\n",
       "      <td>Male</td>\n",
       "      <td>15000</td>\n",
       "    </tr>\n",
       "    <tr>\n",
       "      <th>19</th>\n",
       "      <td>20</td>\n",
       "      <td>10</td>\n",
       "      <td>36</td>\n",
       "      <td>Male</td>\n",
       "      <td>330000</td>\n",
       "    </tr>\n",
       "    <tr>\n",
       "      <th>20</th>\n",
       "      <td>21</td>\n",
       "      <td>15</td>\n",
       "      <td>54</td>\n",
       "      <td>Male</td>\n",
       "      <td>6570000</td>\n",
       "    </tr>\n",
       "    <tr>\n",
       "      <th>21</th>\n",
       "      <td>22</td>\n",
       "      <td>4</td>\n",
       "      <td>26</td>\n",
       "      <td>Male</td>\n",
       "      <td>25000</td>\n",
       "    </tr>\n",
       "    <tr>\n",
       "      <th>22</th>\n",
       "      <td>23</td>\n",
       "      <td>5</td>\n",
       "      <td>29</td>\n",
       "      <td>Male</td>\n",
       "      <td>6845000</td>\n",
       "    </tr>\n",
       "    <tr>\n",
       "      <th>23</th>\n",
       "      <td>24</td>\n",
       "      <td>1</td>\n",
       "      <td>21</td>\n",
       "      <td>Female</td>\n",
       "      <td>6000</td>\n",
       "    </tr>\n",
       "    <tr>\n",
       "      <th>24</th>\n",
       "      <td>25</td>\n",
       "      <td>4</td>\n",
       "      <td>23</td>\n",
       "      <td>Female</td>\n",
       "      <td>8900</td>\n",
       "    </tr>\n",
       "    <tr>\n",
       "      <th>25</th>\n",
       "      <td>26</td>\n",
       "      <td>3</td>\n",
       "      <td>22</td>\n",
       "      <td>Female</td>\n",
       "      <td>20000</td>\n",
       "    </tr>\n",
       "    <tr>\n",
       "      <th>26</th>\n",
       "      <td>27</td>\n",
       "      <td>1</td>\n",
       "      <td>18</td>\n",
       "      <td>Male</td>\n",
       "      <td>3000</td>\n",
       "    </tr>\n",
       "    <tr>\n",
       "      <th>27</th>\n",
       "      <td>28</td>\n",
       "      <td>27</td>\n",
       "      <td>62</td>\n",
       "      <td>Female</td>\n",
       "      <td>10000000</td>\n",
       "    </tr>\n",
       "    <tr>\n",
       "      <th>28</th>\n",
       "      <td>29</td>\n",
       "      <td>19</td>\n",
       "      <td>54</td>\n",
       "      <td>Female</td>\n",
       "      <td>5000000</td>\n",
       "    </tr>\n",
       "    <tr>\n",
       "      <th>29</th>\n",
       "      <td>30</td>\n",
       "      <td>2</td>\n",
       "      <td>21</td>\n",
       "      <td>Female</td>\n",
       "      <td>6100</td>\n",
       "    </tr>\n",
       "    <tr>\n",
       "      <th>30</th>\n",
       "      <td>31</td>\n",
       "      <td>10</td>\n",
       "      <td>34</td>\n",
       "      <td>Male</td>\n",
       "      <td>80000</td>\n",
       "    </tr>\n",
       "    <tr>\n",
       "      <th>31</th>\n",
       "      <td>32</td>\n",
       "      <td>15</td>\n",
       "      <td>54</td>\n",
       "      <td>Male</td>\n",
       "      <td>900000</td>\n",
       "    </tr>\n",
       "    <tr>\n",
       "      <th>32</th>\n",
       "      <td>33</td>\n",
       "      <td>20</td>\n",
       "      <td>55</td>\n",
       "      <td>Female</td>\n",
       "      <td>1540000</td>\n",
       "    </tr>\n",
       "    <tr>\n",
       "      <th>33</th>\n",
       "      <td>34</td>\n",
       "      <td>19</td>\n",
       "      <td>53</td>\n",
       "      <td>Female</td>\n",
       "      <td>9300000</td>\n",
       "    </tr>\n",
       "    <tr>\n",
       "      <th>34</th>\n",
       "      <td>35</td>\n",
       "      <td>16</td>\n",
       "      <td>49</td>\n",
       "      <td>Male</td>\n",
       "      <td>7600000</td>\n",
       "    </tr>\n",
       "  </tbody>\n",
       "</table>\n",
       "</div>"
      ],
      "text/plain": [
       "    ID  Experience_Years  Age  Gender    Salary\n",
       "0    1                 5   28  Female    250000\n",
       "1    2                 1   21    Male     50000\n",
       "2    3                 3   23    male    170000\n",
       "3    4                 2   22    Male     25000\n",
       "4    5                 1   17    Male     10000\n",
       "5    6                25   62    Male   5001000\n",
       "6    7                19   54  Female    800000\n",
       "7    8                 2   21  Female      9000\n",
       "8    9                10   36  Female     61500\n",
       "9   10                15   54  Female    650000\n",
       "10  11                 4   26  Female    250000\n",
       "11  12                 6   29    Male   1400000\n",
       "12  13                14   39    Male   6000050\n",
       "13  14                11   40    Male    220100\n",
       "14  15                 2   23    Male      7500\n",
       "15  16                 4   27  Female     87000\n",
       "16  17                10   34  Female    930000\n",
       "17  18                15   54  Female   7900000\n",
       "18  19                 2   21    Male     15000\n",
       "19  20                10   36    Male    330000\n",
       "20  21                15   54    Male   6570000\n",
       "21  22                 4   26    Male     25000\n",
       "22  23                 5   29    Male   6845000\n",
       "23  24                 1   21  Female      6000\n",
       "24  25                 4   23  Female      8900\n",
       "25  26                 3   22  Female     20000\n",
       "26  27                 1   18    Male      3000\n",
       "27  28                27   62  Female  10000000\n",
       "28  29                19   54  Female   5000000\n",
       "29  30                 2   21  Female      6100\n",
       "30  31                10   34    Male     80000\n",
       "31  32                15   54    Male    900000\n",
       "32  33                20   55  Female   1540000\n",
       "33  34                19   53  Female   9300000\n",
       "34  35                16   49    Male   7600000"
      ]
     },
     "execution_count": 36,
     "metadata": {},
     "output_type": "execute_result"
    }
   ],
   "source": [
    "df"
   ]
  },
  {
   "cell_type": "code",
   "execution_count": 1,
   "id": "59a97815-37b9-46f7-8cd0-26b5971bd02c",
   "metadata": {},
   "outputs": [],
   "source": [
    "num=lambda a:\"positive\"if a>0 else \"negitive\""
   ]
  },
  {
   "cell_type": "code",
   "execution_count": 2,
   "id": "3825629d-d012-43d9-a9ec-6a0a8c4b14f8",
   "metadata": {},
   "outputs": [
    {
     "data": {
      "text/plain": [
       "'positive'"
      ]
     },
     "execution_count": 2,
     "metadata": {},
     "output_type": "execute_result"
    }
   ],
   "source": [
    "(num(7))"
   ]
  },
  {
   "cell_type": "code",
   "execution_count": 3,
   "id": "83fbf5fd-52d6-4730-98ac-c9cfddf76f23",
   "metadata": {},
   "outputs": [],
   "source": [
    "nums=[2,3,4,5]"
   ]
  },
  {
   "cell_type": "code",
   "execution_count": 4,
   "id": "73fad1ca-b0ce-49ca-be7a-7688a3004d23",
   "metadata": {},
   "outputs": [],
   "source": [
    "cubes=list(map(lambda x:x**3,nums))"
   ]
  },
  {
   "cell_type": "code",
   "execution_count": 5,
   "id": "9ebb141e-6f08-4224-89f5-639e371979f1",
   "metadata": {},
   "outputs": [
    {
     "data": {
      "text/plain": [
       "[8, 27, 64, 125]"
      ]
     },
     "execution_count": 5,
     "metadata": {},
     "output_type": "execute_result"
    }
   ],
   "source": [
    "cubes"
   ]
  },
  {
   "cell_type": "code",
   "execution_count": 6,
   "id": "1a92356d-7357-4593-9ec2-3011545e9132",
   "metadata": {},
   "outputs": [],
   "source": [
    "num=[1,21]"
   ]
  },
  {
   "cell_type": "code",
   "execution_count": 5,
   "id": "d344dff4-3513-4515-8d7b-474e62f0c6f4",
   "metadata": {},
   "outputs": [
    {
     "ename": "_IncompleteInputError",
     "evalue": "incomplete input (4203746630.py, line 1)",
     "output_type": "error",
     "traceback": [
      "  \u001b[36mCell\u001b[39m\u001b[36m \u001b[39m\u001b[32mIn[5]\u001b[39m\u001b[32m, line 1\u001b[39m\n\u001b[31m    \u001b[39m\u001b[31mdivisible=list(filter(lambda x:x%3==0(range(1,21)))\u001b[39m\n                                                       ^\n\u001b[31m_IncompleteInputError\u001b[39m\u001b[31m:\u001b[39m incomplete input\n"
     ]
    }
   ],
   "source": [
    "divisible=list(filter(lambda x:x%3==0(range(1,21)))"
   ]
  },
  {
   "cell_type": "code",
   "execution_count": 6,
   "id": "ea41c8cf-d0be-4a3f-8e06-5e4267e9b9f7",
   "metadata": {},
   "outputs": [
    {
     "ename": "NameError",
     "evalue": "name 'divisible' is not defined",
     "output_type": "error",
     "traceback": [
      "\u001b[31m---------------------------------------------------------------------------\u001b[39m",
      "\u001b[31mNameError\u001b[39m                                 Traceback (most recent call last)",
      "\u001b[36mCell\u001b[39m\u001b[36m \u001b[39m\u001b[32mIn[6]\u001b[39m\u001b[32m, line 1\u001b[39m\n\u001b[32m----> \u001b[39m\u001b[32m1\u001b[39m \u001b[43mdivisible\u001b[49m\n",
      "\u001b[31mNameError\u001b[39m: name 'divisible' is not defined"
     ]
    }
   ],
   "source": [
    "divisible"
   ]
  },
  {
   "cell_type": "code",
   "execution_count": 11,
   "id": "64f55844-e158-4377-82da-ec246b320969",
   "metadata": {},
   "outputs": [],
   "source": [
    "import numpy as np"
   ]
  },
  {
   "cell_type": "code",
   "execution_count": 12,
   "id": "07d0c3e9-bda7-4f08-863f-ad19607a8fba",
   "metadata": {},
   "outputs": [],
   "source": [
    "A=np.array([2,6,7,9,5])"
   ]
  },
  {
   "cell_type": "code",
   "execution_count": 13,
   "id": "1fbc9110-320d-47d9-bf24-51a1d137c54e",
   "metadata": {},
   "outputs": [],
   "source": [
    "B=np.array([2,5,8,6,1])"
   ]
  },
  {
   "cell_type": "code",
   "execution_count": null,
   "id": "81756112-0ef4-4b4a-a1a4-8a3fe186d21b",
   "metadata": {},
   "outputs": [],
   "source": []
  },
  {
   "cell_type": "code",
   "execution_count": 16,
   "id": "ee6064a2-9a20-4ec9-93c4-63cfb7c2b250",
   "metadata": {},
   "outputs": [],
   "source": [
    "comman=np.intersect1d(A,B)"
   ]
  },
  {
   "cell_type": "code",
   "execution_count": 17,
   "id": "27ba1e48-c321-4f9f-af5d-3e4d4287a8e1",
   "metadata": {},
   "outputs": [
    {
     "name": "stdout",
     "output_type": "stream",
     "text": [
      "[2 5 6]\n"
     ]
    }
   ],
   "source": [
    "print(comman)"
   ]
  },
  {
   "cell_type": "code",
   "execution_count": 18,
   "id": "3cfc82a3-fa55-4e96-90d9-67736c9fb993",
   "metadata": {},
   "outputs": [],
   "source": [
    "only_A=np.setdiff1d(A,B)"
   ]
  },
  {
   "cell_type": "code",
   "execution_count": 19,
   "id": "735fbb1d-9133-473f-8c38-15547bc7c063",
   "metadata": {},
   "outputs": [
    {
     "data": {
      "text/plain": [
       "array([7, 9])"
      ]
     },
     "execution_count": 19,
     "metadata": {},
     "output_type": "execute_result"
    }
   ],
   "source": [
    "only_A"
   ]
  },
  {
   "cell_type": "code",
   "execution_count": 22,
   "id": "1913ad94-7c8a-4b0d-bb07-7c76950026ab",
   "metadata": {},
   "outputs": [],
   "source": [
    "only_B=np.setdiff1d(B,A)"
   ]
  },
  {
   "cell_type": "code",
   "execution_count": 23,
   "id": "391c2428-0521-46c9-8551-14cb10bda348",
   "metadata": {},
   "outputs": [
    {
     "data": {
      "text/plain": [
       "array([1, 8])"
      ]
     },
     "execution_count": 23,
     "metadata": {},
     "output_type": "execute_result"
    }
   ],
   "source": [
    "only_B"
   ]
  },
  {
   "cell_type": "code",
   "execution_count": 24,
   "id": "65876956-e1a7-4620-9c1a-3c0f615617ac",
   "metadata": {},
   "outputs": [],
   "source": [
    "import pandas as pd"
   ]
  },
  {
   "cell_type": "code",
   "execution_count": 25,
   "id": "d8683496-d8a9-4c2b-a3ac-f19fadd9f4ac",
   "metadata": {},
   "outputs": [],
   "source": [
    "import numpy as np"
   ]
  },
  {
   "cell_type": "code",
   "execution_count": 26,
   "id": "55a05fe5-4603-4b09-b3a7-b9ab8235a8fb",
   "metadata": {},
   "outputs": [],
   "source": [
    "data={\"name\":[\"amit\",\"sumit\",\"kiran\"],\n",
    "      \"sale\":[[200,300,400,500],[100,200,300,400],[300,400,500,600]]\n",
    "     }"
   ]
  },
  {
   "cell_type": "code",
   "execution_count": 29,
   "id": "c7bacccc-9cbf-4e33-a080-863d85662d7d",
   "metadata": {},
   "outputs": [],
   "source": [
    "df=pd.DataFrame(data)"
   ]
  },
  {
   "cell_type": "code",
   "execution_count": 32,
   "id": "d7af403d-cfed-4ac6-9417-20743b924bab",
   "metadata": {},
   "outputs": [
    {
     "data": {
      "text/html": [
       "<div>\n",
       "<style scoped>\n",
       "    .dataframe tbody tr th:only-of-type {\n",
       "        vertical-align: middle;\n",
       "    }\n",
       "\n",
       "    .dataframe tbody tr th {\n",
       "        vertical-align: top;\n",
       "    }\n",
       "\n",
       "    .dataframe thead th {\n",
       "        text-align: right;\n",
       "    }\n",
       "</style>\n",
       "<table border=\"1\" class=\"dataframe\">\n",
       "  <thead>\n",
       "    <tr style=\"text-align: right;\">\n",
       "      <th></th>\n",
       "      <th>name</th>\n",
       "      <th>sale</th>\n",
       "      <th>avg_sales</th>\n",
       "      <th>total</th>\n",
       "    </tr>\n",
       "  </thead>\n",
       "  <tbody>\n",
       "    <tr>\n",
       "      <th>0</th>\n",
       "      <td>amit</td>\n",
       "      <td>[200, 300, 400, 500]</td>\n",
       "      <td>350.0</td>\n",
       "      <td>1400</td>\n",
       "    </tr>\n",
       "    <tr>\n",
       "      <th>1</th>\n",
       "      <td>sumit</td>\n",
       "      <td>[100, 200, 300, 400]</td>\n",
       "      <td>250.0</td>\n",
       "      <td>1000</td>\n",
       "    </tr>\n",
       "    <tr>\n",
       "      <th>2</th>\n",
       "      <td>kiran</td>\n",
       "      <td>[300, 400, 500, 600]</td>\n",
       "      <td>450.0</td>\n",
       "      <td>1800</td>\n",
       "    </tr>\n",
       "  </tbody>\n",
       "</table>\n",
       "</div>"
      ],
      "text/plain": [
       "    name                  sale  avg_sales  total\n",
       "0   amit  [200, 300, 400, 500]      350.0   1400\n",
       "1  sumit  [100, 200, 300, 400]      250.0   1000\n",
       "2  kiran  [300, 400, 500, 600]      450.0   1800"
      ]
     },
     "execution_count": 32,
     "metadata": {},
     "output_type": "execute_result"
    }
   ],
   "source": [
    "df"
   ]
  },
  {
   "cell_type": "code",
   "execution_count": 30,
   "id": "77d7eba3-e77a-4801-a472-99fa956cca0f",
   "metadata": {},
   "outputs": [],
   "source": [
    "df[\"avg_sales\"]=df[\"sale\"].apply(lambda x:np.mean(x))"
   ]
  },
  {
   "cell_type": "code",
   "execution_count": 31,
   "id": "b8c7874e-4125-485f-b395-25bdf3f2a346",
   "metadata": {},
   "outputs": [],
   "source": [
    "df[\"total\"]=df[\"sale\"].apply(sum)"
   ]
  },
  {
   "cell_type": "code",
   "execution_count": 33,
   "id": "7ae72954-f167-4fea-85b9-23d743400266",
   "metadata": {},
   "outputs": [],
   "source": [
    "high_perfomer=df[df[\"total\"]>1000]"
   ]
  },
  {
   "cell_type": "code",
   "execution_count": 34,
   "id": "10658b68-2996-4373-9fef-0bdc3f849c8e",
   "metadata": {},
   "outputs": [
    {
     "data": {
      "text/html": [
       "<div>\n",
       "<style scoped>\n",
       "    .dataframe tbody tr th:only-of-type {\n",
       "        vertical-align: middle;\n",
       "    }\n",
       "\n",
       "    .dataframe tbody tr th {\n",
       "        vertical-align: top;\n",
       "    }\n",
       "\n",
       "    .dataframe thead th {\n",
       "        text-align: right;\n",
       "    }\n",
       "</style>\n",
       "<table border=\"1\" class=\"dataframe\">\n",
       "  <thead>\n",
       "    <tr style=\"text-align: right;\">\n",
       "      <th></th>\n",
       "      <th>name</th>\n",
       "      <th>sale</th>\n",
       "      <th>avg_sales</th>\n",
       "      <th>total</th>\n",
       "    </tr>\n",
       "  </thead>\n",
       "  <tbody>\n",
       "    <tr>\n",
       "      <th>0</th>\n",
       "      <td>amit</td>\n",
       "      <td>[200, 300, 400, 500]</td>\n",
       "      <td>350.0</td>\n",
       "      <td>1400</td>\n",
       "    </tr>\n",
       "    <tr>\n",
       "      <th>1</th>\n",
       "      <td>sumit</td>\n",
       "      <td>[100, 200, 300, 400]</td>\n",
       "      <td>250.0</td>\n",
       "      <td>1000</td>\n",
       "    </tr>\n",
       "    <tr>\n",
       "      <th>2</th>\n",
       "      <td>kiran</td>\n",
       "      <td>[300, 400, 500, 600]</td>\n",
       "      <td>450.0</td>\n",
       "      <td>1800</td>\n",
       "    </tr>\n",
       "  </tbody>\n",
       "</table>\n",
       "</div>"
      ],
      "text/plain": [
       "    name                  sale  avg_sales  total\n",
       "0   amit  [200, 300, 400, 500]      350.0   1400\n",
       "1  sumit  [100, 200, 300, 400]      250.0   1000\n",
       "2  kiran  [300, 400, 500, 600]      450.0   1800"
      ]
     },
     "execution_count": 34,
     "metadata": {},
     "output_type": "execute_result"
    }
   ],
   "source": [
    "df"
   ]
  },
  {
   "cell_type": "code",
   "execution_count": 35,
   "id": "273099ac-e20c-4726-aebc-635a905cdd7b",
   "metadata": {},
   "outputs": [
    {
     "data": {
      "text/html": [
       "<div>\n",
       "<style scoped>\n",
       "    .dataframe tbody tr th:only-of-type {\n",
       "        vertical-align: middle;\n",
       "    }\n",
       "\n",
       "    .dataframe tbody tr th {\n",
       "        vertical-align: top;\n",
       "    }\n",
       "\n",
       "    .dataframe thead th {\n",
       "        text-align: right;\n",
       "    }\n",
       "</style>\n",
       "<table border=\"1\" class=\"dataframe\">\n",
       "  <thead>\n",
       "    <tr style=\"text-align: right;\">\n",
       "      <th></th>\n",
       "      <th>name</th>\n",
       "      <th>sale</th>\n",
       "      <th>avg_sales</th>\n",
       "      <th>total</th>\n",
       "    </tr>\n",
       "  </thead>\n",
       "  <tbody>\n",
       "    <tr>\n",
       "      <th>0</th>\n",
       "      <td>amit</td>\n",
       "      <td>[200, 300, 400, 500]</td>\n",
       "      <td>350.0</td>\n",
       "      <td>1400</td>\n",
       "    </tr>\n",
       "    <tr>\n",
       "      <th>2</th>\n",
       "      <td>kiran</td>\n",
       "      <td>[300, 400, 500, 600]</td>\n",
       "      <td>450.0</td>\n",
       "      <td>1800</td>\n",
       "    </tr>\n",
       "  </tbody>\n",
       "</table>\n",
       "</div>"
      ],
      "text/plain": [
       "    name                  sale  avg_sales  total\n",
       "0   amit  [200, 300, 400, 500]      350.0   1400\n",
       "2  kiran  [300, 400, 500, 600]      450.0   1800"
      ]
     },
     "execution_count": 35,
     "metadata": {},
     "output_type": "execute_result"
    }
   ],
   "source": [
    "(high_perfomer)"
   ]
  },
  {
   "cell_type": "code",
   "execution_count": 5,
   "id": "ed740490-d97c-4b86-bd49-7014c368eed1",
   "metadata": {},
   "outputs": [],
   "source": [
    "dic={\"name\":[\"mango\",\"milk\",\"faluda\",\"lassi\"],\n",
    "     \"MRP\":[[20,60,89,56],[10,20,30,40],[20,89,65,45],[35,56,65,34]]\n",
    "    }"
   ]
  },
  {
   "cell_type": "code",
   "execution_count": 6,
   "id": "65670acb-df88-459a-9f73-b2f46c4b0d28",
   "metadata": {},
   "outputs": [
    {
     "ename": "NameError",
     "evalue": "name 'pd' is not defined",
     "output_type": "error",
     "traceback": [
      "\u001b[31m---------------------------------------------------------------------------\u001b[39m",
      "\u001b[31mNameError\u001b[39m                                 Traceback (most recent call last)",
      "\u001b[36mCell\u001b[39m\u001b[36m \u001b[39m\u001b[32mIn[6]\u001b[39m\u001b[32m, line 1\u001b[39m\n\u001b[32m----> \u001b[39m\u001b[32m1\u001b[39m df=\u001b[43mpd\u001b[49m.DataFrame(dic)\n",
      "\u001b[31mNameError\u001b[39m: name 'pd' is not defined"
     ]
    }
   ],
   "source": [
    "df=pd.DataFrame(dic)"
   ]
  },
  {
   "cell_type": "code",
   "execution_count": 38,
   "id": "4ba40958-b022-440e-bcc6-cd967b5a71bf",
   "metadata": {},
   "outputs": [
    {
     "data": {
      "text/html": [
       "<div>\n",
       "<style scoped>\n",
       "    .dataframe tbody tr th:only-of-type {\n",
       "        vertical-align: middle;\n",
       "    }\n",
       "\n",
       "    .dataframe tbody tr th {\n",
       "        vertical-align: top;\n",
       "    }\n",
       "\n",
       "    .dataframe thead th {\n",
       "        text-align: right;\n",
       "    }\n",
       "</style>\n",
       "<table border=\"1\" class=\"dataframe\">\n",
       "  <thead>\n",
       "    <tr style=\"text-align: right;\">\n",
       "      <th></th>\n",
       "      <th>name</th>\n",
       "      <th>MRP</th>\n",
       "    </tr>\n",
       "  </thead>\n",
       "  <tbody>\n",
       "    <tr>\n",
       "      <th>0</th>\n",
       "      <td>mango</td>\n",
       "      <td>[20, 60, 89, 56]</td>\n",
       "    </tr>\n",
       "    <tr>\n",
       "      <th>1</th>\n",
       "      <td>milk</td>\n",
       "      <td>[10, 20, 30, 40]</td>\n",
       "    </tr>\n",
       "    <tr>\n",
       "      <th>2</th>\n",
       "      <td>faluda</td>\n",
       "      <td>[20, 89, 65, 45]</td>\n",
       "    </tr>\n",
       "    <tr>\n",
       "      <th>3</th>\n",
       "      <td>lassi</td>\n",
       "      <td>[35, 56, 65, 34]</td>\n",
       "    </tr>\n",
       "  </tbody>\n",
       "</table>\n",
       "</div>"
      ],
      "text/plain": [
       "     name               MRP\n",
       "0   mango  [20, 60, 89, 56]\n",
       "1    milk  [10, 20, 30, 40]\n",
       "2  faluda  [20, 89, 65, 45]\n",
       "3   lassi  [35, 56, 65, 34]"
      ]
     },
     "execution_count": 38,
     "metadata": {},
     "output_type": "execute_result"
    }
   ],
   "source": [
    "df"
   ]
  },
  {
   "cell_type": "code",
   "execution_count": 3,
   "id": "ab903e0f-5c95-4d76-a979-b0268aa0e61a",
   "metadata": {},
   "outputs": [
    {
     "ename": "NameError",
     "evalue": "name 'df' is not defined",
     "output_type": "error",
     "traceback": [
      "\u001b[31m---------------------------------------------------------------------------\u001b[39m",
      "\u001b[31mNameError\u001b[39m                                 Traceback (most recent call last)",
      "\u001b[36mCell\u001b[39m\u001b[36m \u001b[39m\u001b[32mIn[3]\u001b[39m\u001b[32m, line 1\u001b[39m\n\u001b[32m----> \u001b[39m\u001b[32m1\u001b[39m df[\u001b[33m\"\u001b[39m\u001b[33m%\u001b[39m\u001b[33mChange\u001b[39m\u001b[33m\"\u001b[39m] = \u001b[43mdf\u001b[49m[\u001b[33m\"\u001b[39m\u001b[33mMRP\u001b[39m\u001b[33m\"\u001b[39m].apply(\u001b[38;5;28;01mlambda\u001b[39;00m x: ((np.array(x)[-\u001b[32m1\u001b[39m] - np.array(x)[\u001b[32m0\u001b[39m]) / np.array(x)[\u001b[32m0\u001b[39m]) * \u001b[32m100\u001b[39m )\n\u001b[32m      2\u001b[39m df[\u001b[33m\"\u001b[39m\u001b[33mAvg_MRP\u001b[39m\u001b[33m\"\u001b[39m] = df[\u001b[33m\"\u001b[39m\u001b[33mMRP\u001b[39m\u001b[33m\"\u001b[39m].apply(np.mean)\n\u001b[32m      3\u001b[39m a=df[df[\u001b[33m\"\u001b[39m\u001b[33mAvg_MRP\u001b[39m\u001b[33m\"\u001b[39m]>\u001b[32m30\u001b[39m]\n",
      "\u001b[31mNameError\u001b[39m: name 'df' is not defined"
     ]
    }
   ],
   "source": [
    "df[\"%Change\"] = df[\"MRP\"].apply(lambda x: ((np.array(x)[-1] - np.array(x)[0]) / np.array(x)[0]) * 100 )\n",
    "df[\"Avg_MRP\"] = df[\"MRP\"].apply(np.mean)\n",
    "a=df[df[\"Avg_MRP\"]>30]"
   ]
  },
  {
   "cell_type": "code",
   "execution_count": 8,
   "id": "e2221a90-5a07-46c7-99f8-7954ac79f7ef",
   "metadata": {},
   "outputs": [],
   "source": [
    "import pandas as pd"
   ]
  },
  {
   "cell_type": "code",
   "execution_count": 9,
   "id": "2042e6cb-fb49-4eaf-9a99-f2b1fb141f62",
   "metadata": {},
   "outputs": [],
   "source": [
    "dic={\"name\":[\"mango\",\"milk\",\"faluda\",\"lassi\"],\n",
    "     \"MRP\":[[20,60,89,56],[10,20,30,40],[20,89,65,45],[35,56,65,34]]\n",
    "    }"
   ]
  },
  {
   "cell_type": "code",
   "execution_count": 10,
   "id": "e583e132-0398-4e01-bed7-f9339cdff097",
   "metadata": {},
   "outputs": [],
   "source": [
    "df=pd.DataFrame(dic)"
   ]
  },
  {
   "cell_type": "code",
   "execution_count": 11,
   "id": "8b242e88-9d65-4ed7-b0b5-fd8c1556c5c0",
   "metadata": {},
   "outputs": [
    {
     "data": {
      "text/html": [
       "<div>\n",
       "<style scoped>\n",
       "    .dataframe tbody tr th:only-of-type {\n",
       "        vertical-align: middle;\n",
       "    }\n",
       "\n",
       "    .dataframe tbody tr th {\n",
       "        vertical-align: top;\n",
       "    }\n",
       "\n",
       "    .dataframe thead th {\n",
       "        text-align: right;\n",
       "    }\n",
       "</style>\n",
       "<table border=\"1\" class=\"dataframe\">\n",
       "  <thead>\n",
       "    <tr style=\"text-align: right;\">\n",
       "      <th></th>\n",
       "      <th>name</th>\n",
       "      <th>MRP</th>\n",
       "    </tr>\n",
       "  </thead>\n",
       "  <tbody>\n",
       "    <tr>\n",
       "      <th>0</th>\n",
       "      <td>mango</td>\n",
       "      <td>[20, 60, 89, 56]</td>\n",
       "    </tr>\n",
       "    <tr>\n",
       "      <th>1</th>\n",
       "      <td>milk</td>\n",
       "      <td>[10, 20, 30, 40]</td>\n",
       "    </tr>\n",
       "    <tr>\n",
       "      <th>2</th>\n",
       "      <td>faluda</td>\n",
       "      <td>[20, 89, 65, 45]</td>\n",
       "    </tr>\n",
       "    <tr>\n",
       "      <th>3</th>\n",
       "      <td>lassi</td>\n",
       "      <td>[35, 56, 65, 34]</td>\n",
       "    </tr>\n",
       "  </tbody>\n",
       "</table>\n",
       "</div>"
      ],
      "text/plain": [
       "     name               MRP\n",
       "0   mango  [20, 60, 89, 56]\n",
       "1    milk  [10, 20, 30, 40]\n",
       "2  faluda  [20, 89, 65, 45]\n",
       "3   lassi  [35, 56, 65, 34]"
      ]
     },
     "execution_count": 11,
     "metadata": {},
     "output_type": "execute_result"
    }
   ],
   "source": [
    "df"
   ]
  },
  {
   "cell_type": "code",
   "execution_count": 13,
   "id": "0f76a23a-fefd-4a47-8f18-cfba61669559",
   "metadata": {},
   "outputs": [],
   "source": [
    "import numpy as np"
   ]
  },
  {
   "cell_type": "code",
   "execution_count": 14,
   "id": "3c36778d-5264-4687-b8e9-0ea687aa3336",
   "metadata": {},
   "outputs": [],
   "source": [
    "df[\"%Change\"] = df[\"MRP\"].apply(lambda x: ((np.array(x)[-1] - np.array(x)[0]) / np.array(x)[0]) * 100 )\n",
    "df[\"Avg_MRP\"] = df[\"MRP\"].apply(np.mean)\n",
    "a=df[df[\"Avg_MRP\"]>30]"
   ]
  },
  {
   "cell_type": "code",
   "execution_count": 15,
   "id": "8d4511dd-5b10-49eb-837a-fb253871dc39",
   "metadata": {},
   "outputs": [
    {
     "data": {
      "text/html": [
       "<div>\n",
       "<style scoped>\n",
       "    .dataframe tbody tr th:only-of-type {\n",
       "        vertical-align: middle;\n",
       "    }\n",
       "\n",
       "    .dataframe tbody tr th {\n",
       "        vertical-align: top;\n",
       "    }\n",
       "\n",
       "    .dataframe thead th {\n",
       "        text-align: right;\n",
       "    }\n",
       "</style>\n",
       "<table border=\"1\" class=\"dataframe\">\n",
       "  <thead>\n",
       "    <tr style=\"text-align: right;\">\n",
       "      <th></th>\n",
       "      <th>name</th>\n",
       "      <th>MRP</th>\n",
       "      <th>%Change</th>\n",
       "      <th>Avg_MRP</th>\n",
       "    </tr>\n",
       "  </thead>\n",
       "  <tbody>\n",
       "    <tr>\n",
       "      <th>0</th>\n",
       "      <td>mango</td>\n",
       "      <td>[20, 60, 89, 56]</td>\n",
       "      <td>180.000000</td>\n",
       "      <td>56.25</td>\n",
       "    </tr>\n",
       "    <tr>\n",
       "      <th>2</th>\n",
       "      <td>faluda</td>\n",
       "      <td>[20, 89, 65, 45]</td>\n",
       "      <td>125.000000</td>\n",
       "      <td>54.75</td>\n",
       "    </tr>\n",
       "    <tr>\n",
       "      <th>3</th>\n",
       "      <td>lassi</td>\n",
       "      <td>[35, 56, 65, 34]</td>\n",
       "      <td>-2.857143</td>\n",
       "      <td>47.50</td>\n",
       "    </tr>\n",
       "  </tbody>\n",
       "</table>\n",
       "</div>"
      ],
      "text/plain": [
       "     name               MRP     %Change  Avg_MRP\n",
       "0   mango  [20, 60, 89, 56]  180.000000    56.25\n",
       "2  faluda  [20, 89, 65, 45]  125.000000    54.75\n",
       "3   lassi  [35, 56, 65, 34]   -2.857143    47.50"
      ]
     },
     "execution_count": 15,
     "metadata": {},
     "output_type": "execute_result"
    }
   ],
   "source": [
    "a"
   ]
  },
  {
   "cell_type": "code",
   "execution_count": 16,
   "id": "2f03b501-26e0-4ca1-ad1b-40cea1cd7f14",
   "metadata": {},
   "outputs": [],
   "source": [
    "import pandas as pd"
   ]
  },
  {
   "cell_type": "code",
   "execution_count": 17,
   "id": "0b9c6b7f-3451-45de-98b5-623ea49514ec",
   "metadata": {},
   "outputs": [],
   "source": [
    "import numpy as np"
   ]
  },
  {
   "cell_type": "code",
   "execution_count": 18,
   "id": "dc81ce4a-f67a-4526-a342-db1261835618",
   "metadata": {},
   "outputs": [],
   "source": [
    "dic={\"name\":[\"bhagyashri\",\"struti\",\"ovee\",\"pritiksha\"],\n",
    "     \"salary\":[4000,6000,7500,30000]\n",
    "    }"
   ]
  },
  {
   "cell_type": "code",
   "execution_count": 19,
   "id": "1017ad82-c77f-4736-a5ba-6aabd0ab883c",
   "metadata": {},
   "outputs": [],
   "source": [
    "df=pd.DataFrame(dic)"
   ]
  },
  {
   "cell_type": "code",
   "execution_count": 20,
   "id": "a8f4736d-31ae-462f-8e0f-c989b4f834aa",
   "metadata": {},
   "outputs": [
    {
     "data": {
      "text/html": [
       "<div>\n",
       "<style scoped>\n",
       "    .dataframe tbody tr th:only-of-type {\n",
       "        vertical-align: middle;\n",
       "    }\n",
       "\n",
       "    .dataframe tbody tr th {\n",
       "        vertical-align: top;\n",
       "    }\n",
       "\n",
       "    .dataframe thead th {\n",
       "        text-align: right;\n",
       "    }\n",
       "</style>\n",
       "<table border=\"1\" class=\"dataframe\">\n",
       "  <thead>\n",
       "    <tr style=\"text-align: right;\">\n",
       "      <th></th>\n",
       "      <th>name</th>\n",
       "      <th>salary</th>\n",
       "    </tr>\n",
       "  </thead>\n",
       "  <tbody>\n",
       "    <tr>\n",
       "      <th>0</th>\n",
       "      <td>bhagyashri</td>\n",
       "      <td>4000</td>\n",
       "    </tr>\n",
       "    <tr>\n",
       "      <th>1</th>\n",
       "      <td>struti</td>\n",
       "      <td>6000</td>\n",
       "    </tr>\n",
       "    <tr>\n",
       "      <th>2</th>\n",
       "      <td>ovee</td>\n",
       "      <td>7500</td>\n",
       "    </tr>\n",
       "    <tr>\n",
       "      <th>3</th>\n",
       "      <td>pritiksha</td>\n",
       "      <td>30000</td>\n",
       "    </tr>\n",
       "  </tbody>\n",
       "</table>\n",
       "</div>"
      ],
      "text/plain": [
       "         name  salary\n",
       "0  bhagyashri    4000\n",
       "1      struti    6000\n",
       "2        ovee    7500\n",
       "3   pritiksha   30000"
      ]
     },
     "execution_count": 20,
     "metadata": {},
     "output_type": "execute_result"
    }
   ],
   "source": [
    "df"
   ]
  },
  {
   "cell_type": "code",
   "execution_count": 36,
   "id": "914afc71-4b14-4da5-8ecc-1ebc036f2b81",
   "metadata": {},
   "outputs": [],
   "source": [
    "tax=np.where (df['salary']>=50000,df['salary']*0.1,df['salary']*0.05)"
   ]
  },
  {
   "cell_type": "code",
   "execution_count": 37,
   "id": "5a1300ae-7df3-48e1-a648-b35084f92787",
   "metadata": {},
   "outputs": [
    {
     "data": {
      "text/plain": [
       "array([ 200.,  300.,  375., 1500.])"
      ]
     },
     "execution_count": 37,
     "metadata": {},
     "output_type": "execute_result"
    }
   ],
   "source": [
    "tax"
   ]
  },
  {
   "cell_type": "code",
   "execution_count": 33,
   "id": "00ccffdf-d4e7-4cc4-aec0-5b61bdd5486f",
   "metadata": {},
   "outputs": [],
   "source": [
    "df[\"bonces\"]=[100,200,300,400]"
   ]
  },
  {
   "cell_type": "code",
   "execution_count": 66,
   "id": "cd32f913-65c5-4e94-b49e-0c6a9765e63e",
   "metadata": {},
   "outputs": [
    {
     "data": {
      "text/html": [
       "<div>\n",
       "<style scoped>\n",
       "    .dataframe tbody tr th:only-of-type {\n",
       "        vertical-align: middle;\n",
       "    }\n",
       "\n",
       "    .dataframe tbody tr th {\n",
       "        vertical-align: top;\n",
       "    }\n",
       "\n",
       "    .dataframe thead th {\n",
       "        text-align: right;\n",
       "    }\n",
       "</style>\n",
       "<table border=\"1\" class=\"dataframe\">\n",
       "  <thead>\n",
       "    <tr style=\"text-align: right;\">\n",
       "      <th></th>\n",
       "      <th>name</th>\n",
       "      <th>score</th>\n",
       "      <th>result</th>\n",
       "      <th>grade</th>\n",
       "    </tr>\n",
       "  </thead>\n",
       "  <tbody>\n",
       "    <tr>\n",
       "      <th>0</th>\n",
       "      <td>teju</td>\n",
       "      <td>60</td>\n",
       "      <td>pass</td>\n",
       "      <td>A</td>\n",
       "    </tr>\n",
       "    <tr>\n",
       "      <th>1</th>\n",
       "      <td>bhagya</td>\n",
       "      <td>20</td>\n",
       "      <td>fali</td>\n",
       "      <td>C</td>\n",
       "    </tr>\n",
       "    <tr>\n",
       "      <th>2</th>\n",
       "      <td>ritu</td>\n",
       "      <td>34</td>\n",
       "      <td>pass</td>\n",
       "      <td>F</td>\n",
       "    </tr>\n",
       "    <tr>\n",
       "      <th>3</th>\n",
       "      <td>shewta</td>\n",
       "      <td>15</td>\n",
       "      <td>fali</td>\n",
       "      <td>B</td>\n",
       "    </tr>\n",
       "  </tbody>\n",
       "</table>\n",
       "</div>"
      ],
      "text/plain": [
       "     name  score result grade\n",
       "0    teju     60   pass     A\n",
       "1  bhagya     20   fali     C\n",
       "2    ritu     34   pass     F\n",
       "3  shewta     15   fali     B"
      ]
     },
     "execution_count": 66,
     "metadata": {},
     "output_type": "execute_result"
    }
   ],
   "source": [
    "df"
   ]
  },
  {
   "cell_type": "code",
   "execution_count": 41,
   "id": "44cbc3de-0587-486f-bea3-85e85ae76a7f",
   "metadata": {},
   "outputs": [],
   "source": [
    "stu={\"name\":[\"teju\",\"bhagya\",\"ritu\",\"shewta\"],\n",
    "      \"score\":[60,20,34,15]\n",
    "     }"
   ]
  },
  {
   "cell_type": "code",
   "execution_count": 42,
   "id": "772fc474-3650-4964-9df4-ef0058f16168",
   "metadata": {},
   "outputs": [],
   "source": [
    "df=pd.DataFrame(stu)"
   ]
  },
  {
   "cell_type": "code",
   "execution_count": 43,
   "id": "5aa156d6-46c2-422d-a4ed-a118482c9eaa",
   "metadata": {},
   "outputs": [
    {
     "data": {
      "text/html": [
       "<div>\n",
       "<style scoped>\n",
       "    .dataframe tbody tr th:only-of-type {\n",
       "        vertical-align: middle;\n",
       "    }\n",
       "\n",
       "    .dataframe tbody tr th {\n",
       "        vertical-align: top;\n",
       "    }\n",
       "\n",
       "    .dataframe thead th {\n",
       "        text-align: right;\n",
       "    }\n",
       "</style>\n",
       "<table border=\"1\" class=\"dataframe\">\n",
       "  <thead>\n",
       "    <tr style=\"text-align: right;\">\n",
       "      <th></th>\n",
       "      <th>name</th>\n",
       "      <th>score</th>\n",
       "    </tr>\n",
       "  </thead>\n",
       "  <tbody>\n",
       "    <tr>\n",
       "      <th>0</th>\n",
       "      <td>teju</td>\n",
       "      <td>60</td>\n",
       "    </tr>\n",
       "    <tr>\n",
       "      <th>1</th>\n",
       "      <td>bhagya</td>\n",
       "      <td>20</td>\n",
       "    </tr>\n",
       "    <tr>\n",
       "      <th>2</th>\n",
       "      <td>ritu</td>\n",
       "      <td>34</td>\n",
       "    </tr>\n",
       "    <tr>\n",
       "      <th>3</th>\n",
       "      <td>shewta</td>\n",
       "      <td>15</td>\n",
       "    </tr>\n",
       "  </tbody>\n",
       "</table>\n",
       "</div>"
      ],
      "text/plain": [
       "     name  score\n",
       "0    teju     60\n",
       "1  bhagya     20\n",
       "2    ritu     34\n",
       "3  shewta     15"
      ]
     },
     "execution_count": 43,
     "metadata": {},
     "output_type": "execute_result"
    }
   ],
   "source": [
    "df"
   ]
  },
  {
   "cell_type": "code",
   "execution_count": 58,
   "id": "d255ecfc-2bd3-4590-9a95-cfc157b6f6ae",
   "metadata": {},
   "outputs": [],
   "source": [
    "result=np.where( df['score']>25 ,\"pass\",\"fali\")"
   ]
  },
  {
   "cell_type": "code",
   "execution_count": 60,
   "id": "dedf78b1-06a6-43a5-a865-44bed90f5520",
   "metadata": {},
   "outputs": [],
   "source": [
    "df[\"result\"]=result"
   ]
  },
  {
   "cell_type": "code",
   "execution_count": 61,
   "id": "ca94fef4-5b34-474c-8d96-d5520b7cf5fa",
   "metadata": {},
   "outputs": [
    {
     "data": {
      "text/html": [
       "<div>\n",
       "<style scoped>\n",
       "    .dataframe tbody tr th:only-of-type {\n",
       "        vertical-align: middle;\n",
       "    }\n",
       "\n",
       "    .dataframe tbody tr th {\n",
       "        vertical-align: top;\n",
       "    }\n",
       "\n",
       "    .dataframe thead th {\n",
       "        text-align: right;\n",
       "    }\n",
       "</style>\n",
       "<table border=\"1\" class=\"dataframe\">\n",
       "  <thead>\n",
       "    <tr style=\"text-align: right;\">\n",
       "      <th></th>\n",
       "      <th>name</th>\n",
       "      <th>score</th>\n",
       "      <th>result</th>\n",
       "    </tr>\n",
       "  </thead>\n",
       "  <tbody>\n",
       "    <tr>\n",
       "      <th>0</th>\n",
       "      <td>teju</td>\n",
       "      <td>60</td>\n",
       "      <td>pass</td>\n",
       "    </tr>\n",
       "    <tr>\n",
       "      <th>1</th>\n",
       "      <td>bhagya</td>\n",
       "      <td>20</td>\n",
       "      <td>fali</td>\n",
       "    </tr>\n",
       "    <tr>\n",
       "      <th>2</th>\n",
       "      <td>ritu</td>\n",
       "      <td>34</td>\n",
       "      <td>pass</td>\n",
       "    </tr>\n",
       "    <tr>\n",
       "      <th>3</th>\n",
       "      <td>shewta</td>\n",
       "      <td>15</td>\n",
       "      <td>fali</td>\n",
       "    </tr>\n",
       "  </tbody>\n",
       "</table>\n",
       "</div>"
      ],
      "text/plain": [
       "     name  score result\n",
       "0    teju     60   pass\n",
       "1  bhagya     20   fali\n",
       "2    ritu     34   pass\n",
       "3  shewta     15   fali"
      ]
     },
     "execution_count": 61,
     "metadata": {},
     "output_type": "execute_result"
    }
   ],
   "source": [
    "df"
   ]
  },
  {
   "cell_type": "code",
   "execution_count": 62,
   "id": "db4d11bb-3e6f-44e7-8506-00c8689238b4",
   "metadata": {},
   "outputs": [],
   "source": [
    "df[\"grade\"]=[\"A\",\"C\",\"F\",\"B\"]"
   ]
  },
  {
   "cell_type": "code",
   "execution_count": 63,
   "id": "fd23266e-1909-464a-ad6c-781bfa4112b6",
   "metadata": {},
   "outputs": [
    {
     "data": {
      "text/html": [
       "<div>\n",
       "<style scoped>\n",
       "    .dataframe tbody tr th:only-of-type {\n",
       "        vertical-align: middle;\n",
       "    }\n",
       "\n",
       "    .dataframe tbody tr th {\n",
       "        vertical-align: top;\n",
       "    }\n",
       "\n",
       "    .dataframe thead th {\n",
       "        text-align: right;\n",
       "    }\n",
       "</style>\n",
       "<table border=\"1\" class=\"dataframe\">\n",
       "  <thead>\n",
       "    <tr style=\"text-align: right;\">\n",
       "      <th></th>\n",
       "      <th>name</th>\n",
       "      <th>score</th>\n",
       "      <th>result</th>\n",
       "      <th>grade</th>\n",
       "    </tr>\n",
       "  </thead>\n",
       "  <tbody>\n",
       "    <tr>\n",
       "      <th>0</th>\n",
       "      <td>teju</td>\n",
       "      <td>60</td>\n",
       "      <td>pass</td>\n",
       "      <td>A</td>\n",
       "    </tr>\n",
       "    <tr>\n",
       "      <th>1</th>\n",
       "      <td>bhagya</td>\n",
       "      <td>20</td>\n",
       "      <td>fali</td>\n",
       "      <td>C</td>\n",
       "    </tr>\n",
       "    <tr>\n",
       "      <th>2</th>\n",
       "      <td>ritu</td>\n",
       "      <td>34</td>\n",
       "      <td>pass</td>\n",
       "      <td>F</td>\n",
       "    </tr>\n",
       "    <tr>\n",
       "      <th>3</th>\n",
       "      <td>shewta</td>\n",
       "      <td>15</td>\n",
       "      <td>fali</td>\n",
       "      <td>B</td>\n",
       "    </tr>\n",
       "  </tbody>\n",
       "</table>\n",
       "</div>"
      ],
      "text/plain": [
       "     name  score result grade\n",
       "0    teju     60   pass     A\n",
       "1  bhagya     20   fali     C\n",
       "2    ritu     34   pass     F\n",
       "3  shewta     15   fali     B"
      ]
     },
     "execution_count": 63,
     "metadata": {},
     "output_type": "execute_result"
    }
   ],
   "source": [
    "df"
   ]
  },
  {
   "cell_type": "code",
   "execution_count": 10,
   "id": "1a024b6e-0f3f-4422-a48c-d950cc36257a",
   "metadata": {},
   "outputs": [],
   "source": [
    "import pandas as pd"
   ]
  },
  {
   "cell_type": "code",
   "execution_count": 11,
   "id": "050cb72a-6252-4521-987a-16c252ecb4f8",
   "metadata": {},
   "outputs": [],
   "source": [
    "import numpy as np"
   ]
  },
  {
   "cell_type": "code",
   "execution_count": 12,
   "id": "62f6e6f5-b58c-412d-bc51-a81a1f390d5a",
   "metadata": {},
   "outputs": [],
   "source": [
    "att={\"name\":[\"bhagya\",\"ovee\",\"gatha\"],\n",
    "     \"attandance\":[\"56\",\"67\",\"89\"]\n",
    "    }"
   ]
  },
  {
   "cell_type": "code",
   "execution_count": 13,
   "id": "e8df6428-c33c-4a9a-a22a-a86424846508",
   "metadata": {},
   "outputs": [],
   "source": [
    "df=pd.DataFrame(att)"
   ]
  },
  {
   "cell_type": "code",
   "execution_count": 14,
   "id": "af2ad64b-536c-4806-8b2a-6d9dae2abe9f",
   "metadata": {},
   "outputs": [
    {
     "data": {
      "text/html": [
       "<div>\n",
       "<style scoped>\n",
       "    .dataframe tbody tr th:only-of-type {\n",
       "        vertical-align: middle;\n",
       "    }\n",
       "\n",
       "    .dataframe tbody tr th {\n",
       "        vertical-align: top;\n",
       "    }\n",
       "\n",
       "    .dataframe thead th {\n",
       "        text-align: right;\n",
       "    }\n",
       "</style>\n",
       "<table border=\"1\" class=\"dataframe\">\n",
       "  <thead>\n",
       "    <tr style=\"text-align: right;\">\n",
       "      <th></th>\n",
       "      <th>name</th>\n",
       "      <th>attandance</th>\n",
       "    </tr>\n",
       "  </thead>\n",
       "  <tbody>\n",
       "    <tr>\n",
       "      <th>0</th>\n",
       "      <td>bhagya</td>\n",
       "      <td>56</td>\n",
       "    </tr>\n",
       "    <tr>\n",
       "      <th>1</th>\n",
       "      <td>ovee</td>\n",
       "      <td>67</td>\n",
       "    </tr>\n",
       "    <tr>\n",
       "      <th>2</th>\n",
       "      <td>gatha</td>\n",
       "      <td>89</td>\n",
       "    </tr>\n",
       "  </tbody>\n",
       "</table>\n",
       "</div>"
      ],
      "text/plain": [
       "     name attandance\n",
       "0  bhagya         56\n",
       "1    ovee         67\n",
       "2   gatha         89"
      ]
     },
     "execution_count": 14,
     "metadata": {},
     "output_type": "execute_result"
    }
   ],
   "source": [
    "df"
   ]
  },
  {
   "cell_type": "code",
   "execution_count": 20,
   "id": "e3d7c5a5-4e60-4378-aaee-60ca539c81d6",
   "metadata": {},
   "outputs": [],
   "source": [
    "eligible=np.where(df[\"attandance\"]>=\"75%\" ,\"yes\",\"no\")"
   ]
  },
  {
   "cell_type": "code",
   "execution_count": 22,
   "id": "54086648-4e2f-4e73-ada9-60abf62f3814",
   "metadata": {},
   "outputs": [],
   "source": [
    "df[\"eligible\"]=eligible"
   ]
  },
  {
   "cell_type": "code",
   "execution_count": 23,
   "id": "6f9ea41d-6d92-4a48-81f8-717923b788ce",
   "metadata": {},
   "outputs": [
    {
     "data": {
      "text/html": [
       "<div>\n",
       "<style scoped>\n",
       "    .dataframe tbody tr th:only-of-type {\n",
       "        vertical-align: middle;\n",
       "    }\n",
       "\n",
       "    .dataframe tbody tr th {\n",
       "        vertical-align: top;\n",
       "    }\n",
       "\n",
       "    .dataframe thead th {\n",
       "        text-align: right;\n",
       "    }\n",
       "</style>\n",
       "<table border=\"1\" class=\"dataframe\">\n",
       "  <thead>\n",
       "    <tr style=\"text-align: right;\">\n",
       "      <th></th>\n",
       "      <th>name</th>\n",
       "      <th>attandance</th>\n",
       "      <th>eligible</th>\n",
       "    </tr>\n",
       "  </thead>\n",
       "  <tbody>\n",
       "    <tr>\n",
       "      <th>0</th>\n",
       "      <td>bhagya</td>\n",
       "      <td>56</td>\n",
       "      <td>no</td>\n",
       "    </tr>\n",
       "    <tr>\n",
       "      <th>1</th>\n",
       "      <td>ovee</td>\n",
       "      <td>67</td>\n",
       "      <td>no</td>\n",
       "    </tr>\n",
       "    <tr>\n",
       "      <th>2</th>\n",
       "      <td>gatha</td>\n",
       "      <td>89</td>\n",
       "      <td>yes</td>\n",
       "    </tr>\n",
       "  </tbody>\n",
       "</table>\n",
       "</div>"
      ],
      "text/plain": [
       "     name attandance eligible\n",
       "0  bhagya         56       no\n",
       "1    ovee         67       no\n",
       "2   gatha         89      yes"
      ]
     },
     "execution_count": 23,
     "metadata": {},
     "output_type": "execute_result"
    }
   ],
   "source": [
    "df"
   ]
  },
  {
   "cell_type": "code",
   "execution_count": 24,
   "id": "9411cd55-5704-46e5-aa92-9e472430f34d",
   "metadata": {},
   "outputs": [],
   "source": [
    "import pandas as pd"
   ]
  },
  {
   "cell_type": "code",
   "execution_count": 25,
   "id": "17f11e05-42cc-4883-81a9-0255c25b275d",
   "metadata": {},
   "outputs": [],
   "source": [
    "city={\"name\":[\"loni\",\"kolhar\",\"c.sambhaginager\",\"kokan\"],\n",
    "      \"temp\":[\"45c\",\"67c\",\"34c\",\"78c\"]\n",
    "     }"
   ]
  },
  {
   "cell_type": "code",
   "execution_count": 26,
   "id": "f627ef02-99df-46cc-b8b4-247c43b1f14b",
   "metadata": {},
   "outputs": [],
   "source": [
    "df=pd.DataFrame(city)"
   ]
  },
  {
   "cell_type": "code",
   "execution_count": 27,
   "id": "becd64bd-fcdb-4faa-8a75-1d819d10419a",
   "metadata": {},
   "outputs": [
    {
     "data": {
      "text/html": [
       "<div>\n",
       "<style scoped>\n",
       "    .dataframe tbody tr th:only-of-type {\n",
       "        vertical-align: middle;\n",
       "    }\n",
       "\n",
       "    .dataframe tbody tr th {\n",
       "        vertical-align: top;\n",
       "    }\n",
       "\n",
       "    .dataframe thead th {\n",
       "        text-align: right;\n",
       "    }\n",
       "</style>\n",
       "<table border=\"1\" class=\"dataframe\">\n",
       "  <thead>\n",
       "    <tr style=\"text-align: right;\">\n",
       "      <th></th>\n",
       "      <th>name</th>\n",
       "      <th>temp</th>\n",
       "    </tr>\n",
       "  </thead>\n",
       "  <tbody>\n",
       "    <tr>\n",
       "      <th>0</th>\n",
       "      <td>loni</td>\n",
       "      <td>45c</td>\n",
       "    </tr>\n",
       "    <tr>\n",
       "      <th>1</th>\n",
       "      <td>kolhar</td>\n",
       "      <td>67c</td>\n",
       "    </tr>\n",
       "    <tr>\n",
       "      <th>2</th>\n",
       "      <td>c.sambhaginager</td>\n",
       "      <td>34c</td>\n",
       "    </tr>\n",
       "    <tr>\n",
       "      <th>3</th>\n",
       "      <td>kokan</td>\n",
       "      <td>78c</td>\n",
       "    </tr>\n",
       "  </tbody>\n",
       "</table>\n",
       "</div>"
      ],
      "text/plain": [
       "              name temp\n",
       "0             loni  45c\n",
       "1           kolhar  67c\n",
       "2  c.sambhaginager  34c\n",
       "3            kokan  78c"
      ]
     },
     "execution_count": 27,
     "metadata": {},
     "output_type": "execute_result"
    }
   ],
   "source": [
    "df"
   ]
  },
  {
   "cell_type": "code",
   "execution_count": 36,
   "id": "bedec927-dff4-49ec-9b51-7d58e555211d",
   "metadata": {},
   "outputs": [],
   "source": [
    "data = pd.read_csv(\"home.csv\")"
   ]
  },
  {
   "cell_type": "code",
   "execution_count": 34,
   "id": "ef6b4939-eca2-4607-a003-496fd8575ceb",
   "metadata": {},
   "outputs": [
    {
     "data": {
      "text/html": [
       "<div>\n",
       "<style scoped>\n",
       "    .dataframe tbody tr th:only-of-type {\n",
       "        vertical-align: middle;\n",
       "    }\n",
       "\n",
       "    .dataframe tbody tr th {\n",
       "        vertical-align: top;\n",
       "    }\n",
       "\n",
       "    .dataframe thead th {\n",
       "        text-align: right;\n",
       "    }\n",
       "</style>\n",
       "<table border=\"1\" class=\"dataframe\">\n",
       "  <thead>\n",
       "    <tr style=\"text-align: right;\">\n",
       "      <th></th>\n",
       "      <th>name</th>\n",
       "      <th>temp</th>\n",
       "    </tr>\n",
       "  </thead>\n",
       "  <tbody>\n",
       "    <tr>\n",
       "      <th>0</th>\n",
       "      <td>loni</td>\n",
       "      <td>45c</td>\n",
       "    </tr>\n",
       "    <tr>\n",
       "      <th>1</th>\n",
       "      <td>kolhar</td>\n",
       "      <td>67c</td>\n",
       "    </tr>\n",
       "    <tr>\n",
       "      <th>2</th>\n",
       "      <td>c.sambhaginager</td>\n",
       "      <td>34c</td>\n",
       "    </tr>\n",
       "    <tr>\n",
       "      <th>3</th>\n",
       "      <td>kokan</td>\n",
       "      <td>78c</td>\n",
       "    </tr>\n",
       "  </tbody>\n",
       "</table>\n",
       "</div>"
      ],
      "text/plain": [
       "              name temp\n",
       "0             loni  45c\n",
       "1           kolhar  67c\n",
       "2  c.sambhaginager  34c\n",
       "3            kokan  78c"
      ]
     },
     "execution_count": 34,
     "metadata": {},
     "output_type": "execute_result"
    }
   ],
   "source": [
    "df"
   ]
  },
  {
   "cell_type": "code",
   "execution_count": 37,
   "id": "c7632b75-a00e-4ef6-8ed6-2e42315bf526",
   "metadata": {},
   "outputs": [],
   "source": [
    "import numpy as pd"
   ]
  },
  {
   "cell_type": "code",
   "execution_count": 42,
   "id": "0abaa1a8-0ad5-4aca-ada1-34d37ee7f328",
   "metadata": {},
   "outputs": [],
   "source": [
    "df[\"Humandity\"]=[\"23\",\"78\",\"78\",\"23\"]"
   ]
  },
  {
   "cell_type": "code",
   "execution_count": 43,
   "id": "1fac0e5f-e791-4cf9-9f72-7172f772db11",
   "metadata": {},
   "outputs": [
    {
     "data": {
      "text/html": [
       "<div>\n",
       "<style scoped>\n",
       "    .dataframe tbody tr th:only-of-type {\n",
       "        vertical-align: middle;\n",
       "    }\n",
       "\n",
       "    .dataframe tbody tr th {\n",
       "        vertical-align: top;\n",
       "    }\n",
       "\n",
       "    .dataframe thead th {\n",
       "        text-align: right;\n",
       "    }\n",
       "</style>\n",
       "<table border=\"1\" class=\"dataframe\">\n",
       "  <thead>\n",
       "    <tr style=\"text-align: right;\">\n",
       "      <th></th>\n",
       "      <th>name</th>\n",
       "      <th>temp</th>\n",
       "      <th>Humandity</th>\n",
       "    </tr>\n",
       "  </thead>\n",
       "  <tbody>\n",
       "    <tr>\n",
       "      <th>0</th>\n",
       "      <td>loni</td>\n",
       "      <td>45c</td>\n",
       "      <td>23</td>\n",
       "    </tr>\n",
       "    <tr>\n",
       "      <th>1</th>\n",
       "      <td>kolhar</td>\n",
       "      <td>67c</td>\n",
       "      <td>78</td>\n",
       "    </tr>\n",
       "    <tr>\n",
       "      <th>2</th>\n",
       "      <td>c.sambhaginager</td>\n",
       "      <td>34c</td>\n",
       "      <td>78</td>\n",
       "    </tr>\n",
       "    <tr>\n",
       "      <th>3</th>\n",
       "      <td>kokan</td>\n",
       "      <td>78c</td>\n",
       "      <td>23</td>\n",
       "    </tr>\n",
       "  </tbody>\n",
       "</table>\n",
       "</div>"
      ],
      "text/plain": [
       "              name temp Humandity\n",
       "0             loni  45c        23\n",
       "1           kolhar  67c        78\n",
       "2  c.sambhaginager  34c        78\n",
       "3            kokan  78c        23"
      ]
     },
     "execution_count": 43,
     "metadata": {},
     "output_type": "execute_result"
    }
   ],
   "source": [
    "df"
   ]
  },
  {
   "cell_type": "code",
   "execution_count": 47,
   "id": "ce86f016-98d6-4f18-94e1-9fd5aab529fd",
   "metadata": {},
   "outputs": [],
   "source": [
    "alter=np.where(df[\"Humandity\"]>\"50\" ,\"red\",\"green\")"
   ]
  },
  {
   "cell_type": "code",
   "execution_count": 50,
   "id": "6a7c965e-5f71-486b-a86f-4c49e62a2a1b",
   "metadata": {},
   "outputs": [],
   "source": [
    "df[\"alter\"]=alter"
   ]
  },
  {
   "cell_type": "code",
   "execution_count": 51,
   "id": "4806279b-b0bd-4e52-831c-d38407fad0dc",
   "metadata": {},
   "outputs": [
    {
     "data": {
      "text/html": [
       "<div>\n",
       "<style scoped>\n",
       "    .dataframe tbody tr th:only-of-type {\n",
       "        vertical-align: middle;\n",
       "    }\n",
       "\n",
       "    .dataframe tbody tr th {\n",
       "        vertical-align: top;\n",
       "    }\n",
       "\n",
       "    .dataframe thead th {\n",
       "        text-align: right;\n",
       "    }\n",
       "</style>\n",
       "<table border=\"1\" class=\"dataframe\">\n",
       "  <thead>\n",
       "    <tr style=\"text-align: right;\">\n",
       "      <th></th>\n",
       "      <th>name</th>\n",
       "      <th>temp</th>\n",
       "      <th>Humandity</th>\n",
       "      <th>green</th>\n",
       "      <th>red</th>\n",
       "      <th>alter</th>\n",
       "    </tr>\n",
       "  </thead>\n",
       "  <tbody>\n",
       "    <tr>\n",
       "      <th>0</th>\n",
       "      <td>loni</td>\n",
       "      <td>45c</td>\n",
       "      <td>23</td>\n",
       "      <td>green</td>\n",
       "      <td>red</td>\n",
       "      <td>green</td>\n",
       "    </tr>\n",
       "    <tr>\n",
       "      <th>1</th>\n",
       "      <td>kolhar</td>\n",
       "      <td>67c</td>\n",
       "      <td>78</td>\n",
       "      <td>green</td>\n",
       "      <td>red</td>\n",
       "      <td>red</td>\n",
       "    </tr>\n",
       "    <tr>\n",
       "      <th>2</th>\n",
       "      <td>c.sambhaginager</td>\n",
       "      <td>34c</td>\n",
       "      <td>78</td>\n",
       "      <td>green</td>\n",
       "      <td>red</td>\n",
       "      <td>red</td>\n",
       "    </tr>\n",
       "    <tr>\n",
       "      <th>3</th>\n",
       "      <td>kokan</td>\n",
       "      <td>78c</td>\n",
       "      <td>23</td>\n",
       "      <td>green</td>\n",
       "      <td>red</td>\n",
       "      <td>green</td>\n",
       "    </tr>\n",
       "  </tbody>\n",
       "</table>\n",
       "</div>"
      ],
      "text/plain": [
       "              name temp Humandity  green  red  alter\n",
       "0             loni  45c        23  green  red  green\n",
       "1           kolhar  67c        78  green  red    red\n",
       "2  c.sambhaginager  34c        78  green  red    red\n",
       "3            kokan  78c        23  green  red  green"
      ]
     },
     "execution_count": 51,
     "metadata": {},
     "output_type": "execute_result"
    }
   ],
   "source": [
    "df"
   ]
  },
  {
   "cell_type": "code",
   "execution_count": 83,
   "id": "ea46815c-d3aa-48f9-9dee-467c91f4338f",
   "metadata": {},
   "outputs": [],
   "source": [
    "import pandas as pd"
   ]
  },
  {
   "cell_type": "code",
   "execution_count": 84,
   "id": "6bee2761-9394-4e86-9444-cb78cf375455",
   "metadata": {},
   "outputs": [],
   "source": [
    "unice={\"name\":[\"ojasvi\",\"gatha\",\"katha\",\"gauri\",\"manda\",\"kanta\",\"shanta\",\"shalu\"],\n",
    "       \"math\":np.random.randint(20,100,size=8),\n",
    "    \"english\":np.random.randint(15,100,size=8),\n",
    "    \"science\":np.random.randint(9,100,size=8)\n",
    "      }"
   ]
  },
  {
   "cell_type": "code",
   "execution_count": 85,
   "id": "78e13e25-e52d-471a-9400-e6e1b80cf350",
   "metadata": {},
   "outputs": [],
   "source": [
    "df=pd.DataFrame(unice)"
   ]
  },
  {
   "cell_type": "code",
   "execution_count": 86,
   "id": "fe3e1ac4-97d0-4bc2-9e7c-787c58136066",
   "metadata": {},
   "outputs": [
    {
     "data": {
      "text/html": [
       "<div>\n",
       "<style scoped>\n",
       "    .dataframe tbody tr th:only-of-type {\n",
       "        vertical-align: middle;\n",
       "    }\n",
       "\n",
       "    .dataframe tbody tr th {\n",
       "        vertical-align: top;\n",
       "    }\n",
       "\n",
       "    .dataframe thead th {\n",
       "        text-align: right;\n",
       "    }\n",
       "</style>\n",
       "<table border=\"1\" class=\"dataframe\">\n",
       "  <thead>\n",
       "    <tr style=\"text-align: right;\">\n",
       "      <th></th>\n",
       "      <th>name</th>\n",
       "      <th>math</th>\n",
       "      <th>english</th>\n",
       "      <th>science</th>\n",
       "    </tr>\n",
       "  </thead>\n",
       "  <tbody>\n",
       "    <tr>\n",
       "      <th>0</th>\n",
       "      <td>ojasvi</td>\n",
       "      <td>50</td>\n",
       "      <td>25</td>\n",
       "      <td>56</td>\n",
       "    </tr>\n",
       "    <tr>\n",
       "      <th>1</th>\n",
       "      <td>gatha</td>\n",
       "      <td>97</td>\n",
       "      <td>50</td>\n",
       "      <td>92</td>\n",
       "    </tr>\n",
       "    <tr>\n",
       "      <th>2</th>\n",
       "      <td>katha</td>\n",
       "      <td>21</td>\n",
       "      <td>78</td>\n",
       "      <td>16</td>\n",
       "    </tr>\n",
       "    <tr>\n",
       "      <th>3</th>\n",
       "      <td>gauri</td>\n",
       "      <td>88</td>\n",
       "      <td>97</td>\n",
       "      <td>72</td>\n",
       "    </tr>\n",
       "    <tr>\n",
       "      <th>4</th>\n",
       "      <td>manda</td>\n",
       "      <td>45</td>\n",
       "      <td>74</td>\n",
       "      <td>63</td>\n",
       "    </tr>\n",
       "    <tr>\n",
       "      <th>5</th>\n",
       "      <td>kanta</td>\n",
       "      <td>99</td>\n",
       "      <td>20</td>\n",
       "      <td>55</td>\n",
       "    </tr>\n",
       "    <tr>\n",
       "      <th>6</th>\n",
       "      <td>shanta</td>\n",
       "      <td>51</td>\n",
       "      <td>51</td>\n",
       "      <td>47</td>\n",
       "    </tr>\n",
       "    <tr>\n",
       "      <th>7</th>\n",
       "      <td>shalu</td>\n",
       "      <td>47</td>\n",
       "      <td>90</td>\n",
       "      <td>61</td>\n",
       "    </tr>\n",
       "  </tbody>\n",
       "</table>\n",
       "</div>"
      ],
      "text/plain": [
       "     name  math  english  science\n",
       "0  ojasvi    50       25       56\n",
       "1   gatha    97       50       92\n",
       "2   katha    21       78       16\n",
       "3   gauri    88       97       72\n",
       "4   manda    45       74       63\n",
       "5   kanta    99       20       55\n",
       "6  shanta    51       51       47\n",
       "7   shalu    47       90       61"
      ]
     },
     "execution_count": 86,
     "metadata": {},
     "output_type": "execute_result"
    }
   ],
   "source": [
    "df"
   ]
  },
  {
   "cell_type": "code",
   "execution_count": 87,
   "id": "651eac08-c913-4d84-8737-a417a7210651",
   "metadata": {},
   "outputs": [],
   "source": [
    "import numpy as np"
   ]
  },
  {
   "cell_type": "code",
   "execution_count": 88,
   "id": "80fef769-95aa-45d9-b81e-e9693d9c27cb",
   "metadata": {},
   "outputs": [],
   "source": [
    "average= df[[\"math\", \"science\", \"english\"]].mean(axis=1)"
   ]
  },
  {
   "cell_type": "code",
   "execution_count": 89,
   "id": "bc440cac-328d-4ae5-a321-5a8935d138a6",
   "metadata": {},
   "outputs": [],
   "source": [
    "df[\"average\"]= average"
   ]
  },
  {
   "cell_type": "code",
   "execution_count": 90,
   "id": "a8121bc2-e9dc-40dc-9525-020dce97014c",
   "metadata": {},
   "outputs": [
    {
     "data": {
      "text/html": [
       "<div>\n",
       "<style scoped>\n",
       "    .dataframe tbody tr th:only-of-type {\n",
       "        vertical-align: middle;\n",
       "    }\n",
       "\n",
       "    .dataframe tbody tr th {\n",
       "        vertical-align: top;\n",
       "    }\n",
       "\n",
       "    .dataframe thead th {\n",
       "        text-align: right;\n",
       "    }\n",
       "</style>\n",
       "<table border=\"1\" class=\"dataframe\">\n",
       "  <thead>\n",
       "    <tr style=\"text-align: right;\">\n",
       "      <th></th>\n",
       "      <th>name</th>\n",
       "      <th>math</th>\n",
       "      <th>english</th>\n",
       "      <th>science</th>\n",
       "      <th>average</th>\n",
       "    </tr>\n",
       "  </thead>\n",
       "  <tbody>\n",
       "    <tr>\n",
       "      <th>0</th>\n",
       "      <td>ojasvi</td>\n",
       "      <td>50</td>\n",
       "      <td>25</td>\n",
       "      <td>56</td>\n",
       "      <td>43.666667</td>\n",
       "    </tr>\n",
       "    <tr>\n",
       "      <th>1</th>\n",
       "      <td>gatha</td>\n",
       "      <td>97</td>\n",
       "      <td>50</td>\n",
       "      <td>92</td>\n",
       "      <td>79.666667</td>\n",
       "    </tr>\n",
       "    <tr>\n",
       "      <th>2</th>\n",
       "      <td>katha</td>\n",
       "      <td>21</td>\n",
       "      <td>78</td>\n",
       "      <td>16</td>\n",
       "      <td>38.333333</td>\n",
       "    </tr>\n",
       "    <tr>\n",
       "      <th>3</th>\n",
       "      <td>gauri</td>\n",
       "      <td>88</td>\n",
       "      <td>97</td>\n",
       "      <td>72</td>\n",
       "      <td>85.666667</td>\n",
       "    </tr>\n",
       "    <tr>\n",
       "      <th>4</th>\n",
       "      <td>manda</td>\n",
       "      <td>45</td>\n",
       "      <td>74</td>\n",
       "      <td>63</td>\n",
       "      <td>60.666667</td>\n",
       "    </tr>\n",
       "    <tr>\n",
       "      <th>5</th>\n",
       "      <td>kanta</td>\n",
       "      <td>99</td>\n",
       "      <td>20</td>\n",
       "      <td>55</td>\n",
       "      <td>58.000000</td>\n",
       "    </tr>\n",
       "    <tr>\n",
       "      <th>6</th>\n",
       "      <td>shanta</td>\n",
       "      <td>51</td>\n",
       "      <td>51</td>\n",
       "      <td>47</td>\n",
       "      <td>49.666667</td>\n",
       "    </tr>\n",
       "    <tr>\n",
       "      <th>7</th>\n",
       "      <td>shalu</td>\n",
       "      <td>47</td>\n",
       "      <td>90</td>\n",
       "      <td>61</td>\n",
       "      <td>66.000000</td>\n",
       "    </tr>\n",
       "  </tbody>\n",
       "</table>\n",
       "</div>"
      ],
      "text/plain": [
       "     name  math  english  science    average\n",
       "0  ojasvi    50       25       56  43.666667\n",
       "1   gatha    97       50       92  79.666667\n",
       "2   katha    21       78       16  38.333333\n",
       "3   gauri    88       97       72  85.666667\n",
       "4   manda    45       74       63  60.666667\n",
       "5   kanta    99       20       55  58.000000\n",
       "6  shanta    51       51       47  49.666667\n",
       "7   shalu    47       90       61  66.000000"
      ]
     },
     "execution_count": 90,
     "metadata": {},
     "output_type": "execute_result"
    }
   ],
   "source": [
    "df"
   ]
  },
  {
   "cell_type": "code",
   "execution_count": 94,
   "id": "39b7edee-02e3-40a1-aeba-afc1fe34b05a",
   "metadata": {},
   "outputs": [],
   "source": [
    "performance= np.where(df[\"average\"] >= 80, \"Excellent\",np.where(df[\"average\"] >= 50, \"Good\", \"Poor\"))"
   ]
  },
  {
   "cell_type": "code",
   "execution_count": 96,
   "id": "71138b80-c83b-4549-a5af-c6e6937cb3aa",
   "metadata": {},
   "outputs": [],
   "source": [
    "df[\"performance\"]=performance"
   ]
  },
  {
   "cell_type": "code",
   "execution_count": 97,
   "id": "2bbe16d8-6799-4ae2-aef1-95921a0046ca",
   "metadata": {},
   "outputs": [
    {
     "data": {
      "text/html": [
       "<div>\n",
       "<style scoped>\n",
       "    .dataframe tbody tr th:only-of-type {\n",
       "        vertical-align: middle;\n",
       "    }\n",
       "\n",
       "    .dataframe tbody tr th {\n",
       "        vertical-align: top;\n",
       "    }\n",
       "\n",
       "    .dataframe thead th {\n",
       "        text-align: right;\n",
       "    }\n",
       "</style>\n",
       "<table border=\"1\" class=\"dataframe\">\n",
       "  <thead>\n",
       "    <tr style=\"text-align: right;\">\n",
       "      <th></th>\n",
       "      <th>name</th>\n",
       "      <th>math</th>\n",
       "      <th>english</th>\n",
       "      <th>science</th>\n",
       "      <th>average</th>\n",
       "      <th>performance</th>\n",
       "    </tr>\n",
       "  </thead>\n",
       "  <tbody>\n",
       "    <tr>\n",
       "      <th>0</th>\n",
       "      <td>ojasvi</td>\n",
       "      <td>50</td>\n",
       "      <td>25</td>\n",
       "      <td>56</td>\n",
       "      <td>43.666667</td>\n",
       "      <td>Poor</td>\n",
       "    </tr>\n",
       "    <tr>\n",
       "      <th>1</th>\n",
       "      <td>gatha</td>\n",
       "      <td>97</td>\n",
       "      <td>50</td>\n",
       "      <td>92</td>\n",
       "      <td>79.666667</td>\n",
       "      <td>Good</td>\n",
       "    </tr>\n",
       "    <tr>\n",
       "      <th>2</th>\n",
       "      <td>katha</td>\n",
       "      <td>21</td>\n",
       "      <td>78</td>\n",
       "      <td>16</td>\n",
       "      <td>38.333333</td>\n",
       "      <td>Poor</td>\n",
       "    </tr>\n",
       "    <tr>\n",
       "      <th>3</th>\n",
       "      <td>gauri</td>\n",
       "      <td>88</td>\n",
       "      <td>97</td>\n",
       "      <td>72</td>\n",
       "      <td>85.666667</td>\n",
       "      <td>Excellent</td>\n",
       "    </tr>\n",
       "    <tr>\n",
       "      <th>4</th>\n",
       "      <td>manda</td>\n",
       "      <td>45</td>\n",
       "      <td>74</td>\n",
       "      <td>63</td>\n",
       "      <td>60.666667</td>\n",
       "      <td>Good</td>\n",
       "    </tr>\n",
       "    <tr>\n",
       "      <th>5</th>\n",
       "      <td>kanta</td>\n",
       "      <td>99</td>\n",
       "      <td>20</td>\n",
       "      <td>55</td>\n",
       "      <td>58.000000</td>\n",
       "      <td>Good</td>\n",
       "    </tr>\n",
       "    <tr>\n",
       "      <th>6</th>\n",
       "      <td>shanta</td>\n",
       "      <td>51</td>\n",
       "      <td>51</td>\n",
       "      <td>47</td>\n",
       "      <td>49.666667</td>\n",
       "      <td>Poor</td>\n",
       "    </tr>\n",
       "    <tr>\n",
       "      <th>7</th>\n",
       "      <td>shalu</td>\n",
       "      <td>47</td>\n",
       "      <td>90</td>\n",
       "      <td>61</td>\n",
       "      <td>66.000000</td>\n",
       "      <td>Good</td>\n",
       "    </tr>\n",
       "  </tbody>\n",
       "</table>\n",
       "</div>"
      ],
      "text/plain": [
       "     name  math  english  science    average performance\n",
       "0  ojasvi    50       25       56  43.666667        Poor\n",
       "1   gatha    97       50       92  79.666667        Good\n",
       "2   katha    21       78       16  38.333333        Poor\n",
       "3   gauri    88       97       72  85.666667   Excellent\n",
       "4   manda    45       74       63  60.666667        Good\n",
       "5   kanta    99       20       55  58.000000        Good\n",
       "6  shanta    51       51       47  49.666667        Poor\n",
       "7   shalu    47       90       61  66.000000        Good"
      ]
     },
     "execution_count": 97,
     "metadata": {},
     "output_type": "execute_result"
    }
   ],
   "source": [
    "df"
   ]
  },
  {
   "cell_type": "code",
   "execution_count": null,
   "id": "7edd3b27-47a4-4907-9605-a4a589f8bf99",
   "metadata": {},
   "outputs": [],
   "source": []
  },
  {
   "cell_type": "code",
   "execution_count": 101,
   "id": "3a2dcac1-5cf0-4eae-942f-e8c8a578b3f5",
   "metadata": {},
   "outputs": [],
   "source": [
    "import pandas as pd"
   ]
  },
  {
   "cell_type": "code",
   "execution_count": 115,
   "id": "60366a31-0b3d-41bd-b54a-0d01a1bb6b51",
   "metadata": {},
   "outputs": [],
   "source": [
    "product={\"name\":[\"milk\",\"faluda\",\"mastani\",\"ice-creme\",\"lassi\",\"momos\"],\n",
    " \"saling price\":[\"400\",\"600\",\"234\",\"567\",\"980\",\"1000\"],\n",
    "   \"cost price\":[\"670\",\"345\",\"345\",\"543\",\"435\",\"456\"]\n",
    "        }"
   ]
  },
  {
   "cell_type": "code",
   "execution_count": 116,
   "id": "6893c2c1-8ca2-41f1-8f53-83f7a69ce987",
   "metadata": {},
   "outputs": [],
   "source": [
    "df=pd.DataFrame(product)"
   ]
  },
  {
   "cell_type": "code",
   "execution_count": 117,
   "id": "9ed94767-dd74-4070-a08c-a74d82df99cc",
   "metadata": {},
   "outputs": [],
   "source": [
    "df.to_csv(\"bhagya.csv\" , index=False) "
   ]
  },
  {
   "cell_type": "code",
   "execution_count": 118,
   "id": "727d4734-00a1-4a17-9424-9523ff850a6b",
   "metadata": {},
   "outputs": [
    {
     "data": {
      "text/html": [
       "<div>\n",
       "<style scoped>\n",
       "    .dataframe tbody tr th:only-of-type {\n",
       "        vertical-align: middle;\n",
       "    }\n",
       "\n",
       "    .dataframe tbody tr th {\n",
       "        vertical-align: top;\n",
       "    }\n",
       "\n",
       "    .dataframe thead th {\n",
       "        text-align: right;\n",
       "    }\n",
       "</style>\n",
       "<table border=\"1\" class=\"dataframe\">\n",
       "  <thead>\n",
       "    <tr style=\"text-align: right;\">\n",
       "      <th></th>\n",
       "      <th>name</th>\n",
       "      <th>saling price</th>\n",
       "      <th>cost price</th>\n",
       "    </tr>\n",
       "  </thead>\n",
       "  <tbody>\n",
       "    <tr>\n",
       "      <th>0</th>\n",
       "      <td>milk</td>\n",
       "      <td>400</td>\n",
       "      <td>670</td>\n",
       "    </tr>\n",
       "    <tr>\n",
       "      <th>1</th>\n",
       "      <td>faluda</td>\n",
       "      <td>600</td>\n",
       "      <td>345</td>\n",
       "    </tr>\n",
       "    <tr>\n",
       "      <th>2</th>\n",
       "      <td>mastani</td>\n",
       "      <td>234</td>\n",
       "      <td>345</td>\n",
       "    </tr>\n",
       "    <tr>\n",
       "      <th>3</th>\n",
       "      <td>ice-creme</td>\n",
       "      <td>567</td>\n",
       "      <td>543</td>\n",
       "    </tr>\n",
       "    <tr>\n",
       "      <th>4</th>\n",
       "      <td>lassi</td>\n",
       "      <td>980</td>\n",
       "      <td>435</td>\n",
       "    </tr>\n",
       "    <tr>\n",
       "      <th>5</th>\n",
       "      <td>momos</td>\n",
       "      <td>1000</td>\n",
       "      <td>456</td>\n",
       "    </tr>\n",
       "  </tbody>\n",
       "</table>\n",
       "</div>"
      ],
      "text/plain": [
       "        name saling price cost price\n",
       "0       milk          400        670\n",
       "1     faluda          600        345\n",
       "2    mastani          234        345\n",
       "3  ice-creme          567        543\n",
       "4      lassi          980        435\n",
       "5      momos         1000        456"
      ]
     },
     "execution_count": 118,
     "metadata": {},
     "output_type": "execute_result"
    }
   ],
   "source": [
    "df"
   ]
  },
  {
   "cell_type": "code",
   "execution_count": 1,
   "id": "d1a88f78-09bb-4145-9f5b-df3e9fea0d75",
   "metadata": {},
   "outputs": [
    {
     "name": "stdout",
     "output_type": "stream",
     "text": [
      "Collecting matplotlib\n",
      "  Downloading matplotlib-3.10.5-cp313-cp313-win_amd64.whl.metadata (11 kB)\n",
      "Collecting contourpy>=1.0.1 (from matplotlib)\n",
      "  Downloading contourpy-1.3.3-cp313-cp313-win_amd64.whl.metadata (5.5 kB)\n",
      "Collecting cycler>=0.10 (from matplotlib)\n",
      "  Downloading cycler-0.12.1-py3-none-any.whl.metadata (3.8 kB)\n",
      "Collecting fonttools>=4.22.0 (from matplotlib)\n",
      "  Downloading fonttools-4.59.1-cp313-cp313-win_amd64.whl.metadata (111 kB)\n",
      "Collecting kiwisolver>=1.3.1 (from matplotlib)\n",
      "  Downloading kiwisolver-1.4.9-cp313-cp313-win_amd64.whl.metadata (6.4 kB)\n",
      "Requirement already satisfied: numpy>=1.23 in c:\\users\\bhagyashri jadhav\\appdata\\local\\programs\\python\\python313\\lib\\site-packages (from matplotlib) (2.3.2)\n",
      "Requirement already satisfied: packaging>=20.0 in c:\\users\\bhagyashri jadhav\\appdata\\local\\programs\\python\\python313\\lib\\site-packages (from matplotlib) (25.0)\n",
      "Collecting pillow>=8 (from matplotlib)\n",
      "  Downloading pillow-11.3.0-cp313-cp313-win_amd64.whl.metadata (9.2 kB)\n",
      "Collecting pyparsing>=2.3.1 (from matplotlib)\n",
      "  Downloading pyparsing-3.2.3-py3-none-any.whl.metadata (5.0 kB)\n",
      "Requirement already satisfied: python-dateutil>=2.7 in c:\\users\\bhagyashri jadhav\\appdata\\local\\programs\\python\\python313\\lib\\site-packages (from matplotlib) (2.9.0.post0)\n",
      "Requirement already satisfied: six>=1.5 in c:\\users\\bhagyashri jadhav\\appdata\\local\\programs\\python\\python313\\lib\\site-packages (from python-dateutil>=2.7->matplotlib) (1.17.0)\n",
      "Downloading matplotlib-3.10.5-cp313-cp313-win_amd64.whl (8.1 MB)\n",
      "   ---------------------------------------- 0.0/8.1 MB ? eta -:--:--\n",
      "   --- ------------------------------------ 0.8/8.1 MB 3.3 MB/s eta 0:00:03\n",
      "   ------- -------------------------------- 1.6/8.1 MB 3.7 MB/s eta 0:00:02\n",
      "   ----------- ---------------------------- 2.4/8.1 MB 3.6 MB/s eta 0:00:02\n",
      "   --------------- ------------------------ 3.1/8.1 MB 3.7 MB/s eta 0:00:02\n",
      "   -------------------- ------------------- 4.2/8.1 MB 3.9 MB/s eta 0:00:02\n",
      "   ------------------------ --------------- 5.0/8.1 MB 3.8 MB/s eta 0:00:01\n",
      "   ----------------------------- ---------- 6.0/8.1 MB 3.9 MB/s eta 0:00:01\n",
      "   --------------------------------- ------ 6.8/8.1 MB 3.9 MB/s eta 0:00:01\n",
      "   -------------------------------------- - 7.9/8.1 MB 4.0 MB/s eta 0:00:01\n",
      "   ---------------------------------------- 8.1/8.1 MB 3.8 MB/s eta 0:00:00\n",
      "Downloading contourpy-1.3.3-cp313-cp313-win_amd64.whl (226 kB)\n",
      "Downloading cycler-0.12.1-py3-none-any.whl (8.3 kB)\n",
      "Downloading fonttools-4.59.1-cp313-cp313-win_amd64.whl (2.3 MB)\n",
      "   ---------------------------------------- 0.0/2.3 MB ? eta -:--:--\n",
      "   ------------- -------------------------- 0.8/2.3 MB 3.6 MB/s eta 0:00:01\n",
      "   --------------------------- ------------ 1.6/2.3 MB 3.8 MB/s eta 0:00:01\n",
      "   ---------------------------------------- 2.3/2.3 MB 3.6 MB/s eta 0:00:00\n",
      "Downloading kiwisolver-1.4.9-cp313-cp313-win_amd64.whl (73 kB)\n",
      "Downloading pillow-11.3.0-cp313-cp313-win_amd64.whl (7.0 MB)\n",
      "   ---------------------------------------- 0.0/7.0 MB ? eta -:--:--\n",
      "   ---- ----------------------------------- 0.8/7.0 MB 4.0 MB/s eta 0:00:02\n",
      "   ---------- ----------------------------- 1.8/7.0 MB 3.9 MB/s eta 0:00:02\n",
      "   --------------- ------------------------ 2.6/7.0 MB 4.0 MB/s eta 0:00:02\n",
      "   --------------------- ------------------ 3.7/7.0 MB 4.3 MB/s eta 0:00:01\n",
      "   ---------------------------- ----------- 5.0/7.0 MB 4.6 MB/s eta 0:00:01\n",
      "   ---------------------------------- ----- 6.0/7.0 MB 4.7 MB/s eta 0:00:01\n",
      "   ---------------------------------------  6.8/7.0 MB 4.6 MB/s eta 0:00:01\n",
      "   ---------------------------------------- 7.0/7.0 MB 4.5 MB/s eta 0:00:00\n",
      "Downloading pyparsing-3.2.3-py3-none-any.whl (111 kB)\n",
      "Installing collected packages: pyparsing, pillow, kiwisolver, fonttools, cycler, contourpy, matplotlib\n",
      "\n",
      "   ---------------------------------------- 0/7 [pyparsing]\n",
      "   ---------------------------------------- 0/7 [pyparsing]\n",
      "   ----- ---------------------------------- 1/7 [pillow]\n",
      "   ----- ---------------------------------- 1/7 [pillow]\n",
      "   ----- ---------------------------------- 1/7 [pillow]\n",
      "   ----- ---------------------------------- 1/7 [pillow]\n",
      "   ----- ---------------------------------- 1/7 [pillow]\n",
      "   ----- ---------------------------------- 1/7 [pillow]\n",
      "   ----- ---------------------------------- 1/7 [pillow]\n",
      "   ----- ---------------------------------- 1/7 [pillow]\n",
      "   ----- ---------------------------------- 1/7 [pillow]\n",
      "   ----- ---------------------------------- 1/7 [pillow]\n",
      "   ----- ---------------------------------- 1/7 [pillow]\n",
      "   ----- ---------------------------------- 1/7 [pillow]\n",
      "   ----- ---------------------------------- 1/7 [pillow]\n",
      "   ----- ---------------------------------- 1/7 [pillow]\n",
      "   ----- ---------------------------------- 1/7 [pillow]\n",
      "   ----- ---------------------------------- 1/7 [pillow]\n",
      "   ----- ---------------------------------- 1/7 [pillow]\n",
      "   ----------------- ---------------------- 3/7 [fonttools]\n",
      "   ----------------- ---------------------- 3/7 [fonttools]\n",
      "   ----------------- ---------------------- 3/7 [fonttools]\n",
      "   ----------------- ---------------------- 3/7 [fonttools]\n",
      "   ----------------- ---------------------- 3/7 [fonttools]\n",
      "   ----------------- ---------------------- 3/7 [fonttools]\n",
      "   ----------------- ---------------------- 3/7 [fonttools]\n",
      "   ----------------- ---------------------- 3/7 [fonttools]\n",
      "   ----------------- ---------------------- 3/7 [fonttools]\n",
      "   ----------------- ---------------------- 3/7 [fonttools]\n",
      "   ----------------- ---------------------- 3/7 [fonttools]\n",
      "   ----------------- ---------------------- 3/7 [fonttools]\n",
      "   ----------------- ---------------------- 3/7 [fonttools]\n",
      "   ----------------- ---------------------- 3/7 [fonttools]\n",
      "   ----------------- ---------------------- 3/7 [fonttools]\n",
      "   ----------------- ---------------------- 3/7 [fonttools]\n",
      "   ----------------- ---------------------- 3/7 [fonttools]\n",
      "   ----------------- ---------------------- 3/7 [fonttools]\n",
      "   ----------------- ---------------------- 3/7 [fonttools]\n",
      "   ----------------- ---------------------- 3/7 [fonttools]\n",
      "   ----------------- ---------------------- 3/7 [fonttools]\n",
      "   ----------------- ---------------------- 3/7 [fonttools]\n",
      "   ----------------- ---------------------- 3/7 [fonttools]\n",
      "   ----------------- ---------------------- 3/7 [fonttools]\n",
      "   ----------------- ---------------------- 3/7 [fonttools]\n",
      "   ----------------- ---------------------- 3/7 [fonttools]\n",
      "   ----------------- ---------------------- 3/7 [fonttools]\n",
      "   ----------------- ---------------------- 3/7 [fonttools]\n",
      "   ----------------- ---------------------- 3/7 [fonttools]\n",
      "   ----------------- ---------------------- 3/7 [fonttools]\n",
      "   ----------------- ---------------------- 3/7 [fonttools]\n",
      "   ----------------- ---------------------- 3/7 [fonttools]\n",
      "   ----------------- ---------------------- 3/7 [fonttools]\n",
      "   ----------------- ---------------------- 3/7 [fonttools]\n",
      "   ----------------- ---------------------- 3/7 [fonttools]\n",
      "   ----------------- ---------------------- 3/7 [fonttools]\n",
      "   ----------------- ---------------------- 3/7 [fonttools]\n",
      "   ----------------- ---------------------- 3/7 [fonttools]\n",
      "   ----------------- ---------------------- 3/7 [fonttools]\n",
      "   ----------------- ---------------------- 3/7 [fonttools]\n",
      "   ----------------- ---------------------- 3/7 [fonttools]\n",
      "   ----------------- ---------------------- 3/7 [fonttools]\n",
      "   ----------------- ---------------------- 3/7 [fonttools]\n",
      "   ----------------- ---------------------- 3/7 [fonttools]\n",
      "   ----------------- ---------------------- 3/7 [fonttools]\n",
      "   ----------------- ---------------------- 3/7 [fonttools]\n",
      "   ----------------- ---------------------- 3/7 [fonttools]\n",
      "   ---------------------------- ----------- 5/7 [contourpy]\n",
      "   ---------------------------- ----------- 5/7 [contourpy]\n",
      "   ---------------------------- ----------- 5/7 [contourpy]\n",
      "   ---------------------------------- ----- 6/7 [matplotlib]\n",
      "   ---------------------------------- ----- 6/7 [matplotlib]\n",
      "   ---------------------------------- ----- 6/7 [matplotlib]\n",
      "   ---------------------------------- ----- 6/7 [matplotlib]\n",
      "   ---------------------------------- ----- 6/7 [matplotlib]\n",
      "   ---------------------------------- ----- 6/7 [matplotlib]\n",
      "   ---------------------------------- ----- 6/7 [matplotlib]\n",
      "   ---------------------------------- ----- 6/7 [matplotlib]\n",
      "   ---------------------------------- ----- 6/7 [matplotlib]\n",
      "   ---------------------------------- ----- 6/7 [matplotlib]\n",
      "   ---------------------------------- ----- 6/7 [matplotlib]\n",
      "   ---------------------------------- ----- 6/7 [matplotlib]\n",
      "   ---------------------------------- ----- 6/7 [matplotlib]\n",
      "   ---------------------------------- ----- 6/7 [matplotlib]\n",
      "   ---------------------------------- ----- 6/7 [matplotlib]\n",
      "   ---------------------------------- ----- 6/7 [matplotlib]\n",
      "   ---------------------------------- ----- 6/7 [matplotlib]\n",
      "   ---------------------------------- ----- 6/7 [matplotlib]\n",
      "   ---------------------------------- ----- 6/7 [matplotlib]\n",
      "   ---------------------------------- ----- 6/7 [matplotlib]\n",
      "   ---------------------------------- ----- 6/7 [matplotlib]\n",
      "   ---------------------------------- ----- 6/7 [matplotlib]\n",
      "   ---------------------------------- ----- 6/7 [matplotlib]\n",
      "   ---------------------------------- ----- 6/7 [matplotlib]\n",
      "   ---------------------------------- ----- 6/7 [matplotlib]\n",
      "   ---------------------------------- ----- 6/7 [matplotlib]\n",
      "   ---------------------------------- ----- 6/7 [matplotlib]\n",
      "   ---------------------------------- ----- 6/7 [matplotlib]\n",
      "   ---------------------------------- ----- 6/7 [matplotlib]\n",
      "   ---------------------------------- ----- 6/7 [matplotlib]\n",
      "   ---------------------------------- ----- 6/7 [matplotlib]\n",
      "   ---------------------------------- ----- 6/7 [matplotlib]\n",
      "   ---------------------------------- ----- 6/7 [matplotlib]\n",
      "   ---------------------------------- ----- 6/7 [matplotlib]\n",
      "   ---------------------------------- ----- 6/7 [matplotlib]\n",
      "   ---------------------------------- ----- 6/7 [matplotlib]\n",
      "   ---------------------------------- ----- 6/7 [matplotlib]\n",
      "   ---------------------------------- ----- 6/7 [matplotlib]\n",
      "   ---------------------------------- ----- 6/7 [matplotlib]\n",
      "   ---------------------------------- ----- 6/7 [matplotlib]\n",
      "   ---------------------------------- ----- 6/7 [matplotlib]\n",
      "   ---------------------------------- ----- 6/7 [matplotlib]\n",
      "   ---------------------------------- ----- 6/7 [matplotlib]\n",
      "   ---------------------------------- ----- 6/7 [matplotlib]\n",
      "   ---------------------------------- ----- 6/7 [matplotlib]\n",
      "   ---------------------------------- ----- 6/7 [matplotlib]\n",
      "   ---------------------------------- ----- 6/7 [matplotlib]\n",
      "   ---------------------------------- ----- 6/7 [matplotlib]\n",
      "   ---------------------------------- ----- 6/7 [matplotlib]\n",
      "   ---------------------------------- ----- 6/7 [matplotlib]\n",
      "   ---------------------------------- ----- 6/7 [matplotlib]\n",
      "   ---------------------------------- ----- 6/7 [matplotlib]\n",
      "   ---------------------------------- ----- 6/7 [matplotlib]\n",
      "   ---------------------------------- ----- 6/7 [matplotlib]\n",
      "   ---------------------------------- ----- 6/7 [matplotlib]\n",
      "   ---------------------------------------- 7/7 [matplotlib]\n",
      "\n",
      "Successfully installed contourpy-1.3.3 cycler-0.12.1 fonttools-4.59.1 kiwisolver-1.4.9 matplotlib-3.10.5 pillow-11.3.0 pyparsing-3.2.3\n"
     ]
    },
    {
     "name": "stderr",
     "output_type": "stream",
     "text": [
      "\n",
      "[notice] A new release of pip is available: 25.1.1 -> 25.2\n",
      "[notice] To update, run: python.exe -m pip install --upgrade pip\n"
     ]
    }
   ],
   "source": [
    "!pip install matplotlib"
   ]
  },
  {
   "cell_type": "code",
   "execution_count": null,
   "id": "76833821-f211-4dbd-a810-3a18e1b01791",
   "metadata": {},
   "outputs": [],
   "source": []
  }
 ],
 "metadata": {
  "kernelspec": {
   "display_name": "Python 3 (ipykernel)",
   "language": "python",
   "name": "python3"
  },
  "language_info": {
   "codemirror_mode": {
    "name": "ipython",
    "version": 3
   },
   "file_extension": ".py",
   "mimetype": "text/x-python",
   "name": "python",
   "nbconvert_exporter": "python",
   "pygments_lexer": "ipython3",
   "version": "3.13.5"
  }
 },
 "nbformat": 4,
 "nbformat_minor": 5
}
