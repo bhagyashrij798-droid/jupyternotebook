{
 "cells": [
  {
   "cell_type": "code",
   "execution_count": 26,
   "id": "6a1cc695-5be7-4896-8270-8fb675f19ebf",
   "metadata": {},
   "outputs": [],
   "source": [
    "import pandas as pd\n"
   ]
  },
  {
   "cell_type": "code",
   "execution_count": 27,
   "id": "373be3e3-1fd8-4b40-80f5-1869b794fe75",
   "metadata": {},
   "outputs": [],
   "source": [
    "car={\n",
    "    \"name\":[\"toyota\",\"maruti\",\"fortuner\",\"thar\",\"fourwhiler\"],\n",
    "     \"coluer\":[\"red\",\"black\",\"white\",\"blur light\",\"pista\"],\n",
    "     \"fuel\":[\"CNG\",\"petrol\",\"gas\",\"CNG\",\"disel\"],\n",
    "}\n"
   ]
  },
  {
   "cell_type": "code",
   "execution_count": 28,
   "id": "3db813a4-e4f9-42eb-8536-79e8fd1cd444",
   "metadata": {},
   "outputs": [
    {
     "name": "stdout",
     "output_type": "stream",
     "text": [
      "{'name': ['toyota', 'maruti', 'fortuner', 'thar', 'fourwhiler'], 'coluer': ['red', 'black', 'white', 'blur light', 'pista'], 'fuel': ['CNG', 'petrol', 'gas', 'CNG', 'disel']}\n"
     ]
    }
   ],
   "source": [
    "print(car)"
   ]
  },
  {
   "cell_type": "code",
   "execution_count": 30,
   "id": "1270f67c-0e29-4ff4-88ff-f3215c4a304c",
   "metadata": {},
   "outputs": [],
   "source": [
    "df=pd.DataFrame(car)"
   ]
  },
  {
   "cell_type": "code",
   "execution_count": 34,
   "id": "5e27a572-1950-4081-9076-e61cdd28de8a",
   "metadata": {},
   "outputs": [
    {
     "name": "stdout",
     "output_type": "stream",
     "text": [
      "         name      coluer    fuel\n",
      "0      toyota         red     CNG\n",
      "1      maruti       black  petrol\n",
      "2    fortuner       white     gas\n",
      "3        thar  blur light     CNG\n",
      "4  fourwhiler       pista   disel\n"
     ]
    }
   ],
   "source": [
    "print(df)"
   ]
  },
  {
   "cell_type": "code",
   "execution_count": 36,
   "id": "b529293c-29ae-44f3-9eda-f1eaffa20ca2",
   "metadata": {},
   "outputs": [],
   "source": [
    "df.to_csv(\"dg.csv\")"
   ]
  },
  {
   "cell_type": "code",
   "execution_count": 37,
   "id": "b36c3664-6551-4315-adc0-0f5eccf63523",
   "metadata": {},
   "outputs": [
    {
     "ename": "AttributeError",
     "evalue": "module 'pandas' has no attribute 'to_csv_read'",
     "output_type": "error",
     "traceback": [
      "\u001b[31m---------------------------------------------------------------------------\u001b[39m",
      "\u001b[31mAttributeError\u001b[39m                            Traceback (most recent call last)",
      "\u001b[36mCell\u001b[39m\u001b[36m \u001b[39m\u001b[32mIn[37]\u001b[39m\u001b[32m, line 1\u001b[39m\n\u001b[32m----> \u001b[39m\u001b[32m1\u001b[39m data = \u001b[43mpd\u001b[49m\u001b[43m.\u001b[49m\u001b[43mto_csv_read\u001b[49m(\u001b[33m\"\u001b[39m\u001b[33mdg.csv\u001b[39m\u001b[33m\"\u001b[39m)\n",
      "\u001b[31mAttributeError\u001b[39m: module 'pandas' has no attribute 'to_csv_read'"
     ]
    }
   ],
   "source": [
    "data = pd.to_csv_read(\"dg.csv\")"
   ]
  },
  {
   "cell_type": "code",
   "execution_count": 38,
   "id": "5ea8d4d5-0334-477a-b8d6-a160a246880b",
   "metadata": {},
   "outputs": [
    {
     "ename": "AttributeError",
     "evalue": "module 'pandas' has no attribute 'csv_read'",
     "output_type": "error",
     "traceback": [
      "\u001b[31m---------------------------------------------------------------------------\u001b[39m",
      "\u001b[31mAttributeError\u001b[39m                            Traceback (most recent call last)",
      "\u001b[36mCell\u001b[39m\u001b[36m \u001b[39m\u001b[32mIn[38]\u001b[39m\u001b[32m, line 1\u001b[39m\n\u001b[32m----> \u001b[39m\u001b[32m1\u001b[39m data = \u001b[43mpd\u001b[49m\u001b[43m.\u001b[49m\u001b[43mcsv_read\u001b[49m(\u001b[33m\"\u001b[39m\u001b[33mdg.csv\u001b[39m\u001b[33m\"\u001b[39m)\n",
      "\u001b[31mAttributeError\u001b[39m: module 'pandas' has no attribute 'csv_read'"
     ]
    }
   ],
   "source": [
    "data = pd.csv_read(\"dg.csv\")"
   ]
  },
  {
   "cell_type": "code",
   "execution_count": 39,
   "id": "e832a5d6-6f46-4b0d-91ae-5a302f1c6c09",
   "metadata": {},
   "outputs": [],
   "source": [
    "data = pd.read_csv(\"dg.csv\")"
   ]
  },
  {
   "cell_type": "code",
   "execution_count": 40,
   "id": "aacddb04-2a06-4636-abce-7d4974e819c8",
   "metadata": {},
   "outputs": [
    {
     "data": {
      "text/html": [
       "<div>\n",
       "<style scoped>\n",
       "    .dataframe tbody tr th:only-of-type {\n",
       "        vertical-align: middle;\n",
       "    }\n",
       "\n",
       "    .dataframe tbody tr th {\n",
       "        vertical-align: top;\n",
       "    }\n",
       "\n",
       "    .dataframe thead th {\n",
       "        text-align: right;\n",
       "    }\n",
       "</style>\n",
       "<table border=\"1\" class=\"dataframe\">\n",
       "  <thead>\n",
       "    <tr style=\"text-align: right;\">\n",
       "      <th></th>\n",
       "      <th>Unnamed: 0</th>\n",
       "      <th>name</th>\n",
       "      <th>coluer</th>\n",
       "      <th>fuel</th>\n",
       "    </tr>\n",
       "  </thead>\n",
       "  <tbody>\n",
       "    <tr>\n",
       "      <th>0</th>\n",
       "      <td>0</td>\n",
       "      <td>toyota</td>\n",
       "      <td>red</td>\n",
       "      <td>CNG</td>\n",
       "    </tr>\n",
       "    <tr>\n",
       "      <th>1</th>\n",
       "      <td>1</td>\n",
       "      <td>maruti</td>\n",
       "      <td>black</td>\n",
       "      <td>petrol</td>\n",
       "    </tr>\n",
       "    <tr>\n",
       "      <th>2</th>\n",
       "      <td>2</td>\n",
       "      <td>fortuner</td>\n",
       "      <td>white</td>\n",
       "      <td>gas</td>\n",
       "    </tr>\n",
       "    <tr>\n",
       "      <th>3</th>\n",
       "      <td>3</td>\n",
       "      <td>thar</td>\n",
       "      <td>blur light</td>\n",
       "      <td>CNG</td>\n",
       "    </tr>\n",
       "    <tr>\n",
       "      <th>4</th>\n",
       "      <td>4</td>\n",
       "      <td>fourwhiler</td>\n",
       "      <td>pista</td>\n",
       "      <td>disel</td>\n",
       "    </tr>\n",
       "  </tbody>\n",
       "</table>\n",
       "</div>"
      ],
      "text/plain": [
       "   Unnamed: 0        name      coluer    fuel\n",
       "0           0      toyota         red     CNG\n",
       "1           1      maruti       black  petrol\n",
       "2           2    fortuner       white     gas\n",
       "3           3        thar  blur light     CNG\n",
       "4           4  fourwhiler       pista   disel"
      ]
     },
     "execution_count": 40,
     "metadata": {},
     "output_type": "execute_result"
    }
   ],
   "source": [
    "data"
   ]
  },
  {
   "cell_type": "code",
   "execution_count": 41,
   "id": "13216d0a-3413-47cc-a34e-8b583ba49758",
   "metadata": {},
   "outputs": [
    {
     "name": "stdout",
     "output_type": "stream",
     "text": [
      " Unnamed: 0       name     coluer   fuel\n",
      "          0     toyota        red    CNG\n",
      "          1     maruti      black petrol\n",
      "          2   fortuner      white    gas\n",
      "          3       thar blur light    CNG\n",
      "          4 fourwhiler      pista  disel\n"
     ]
    }
   ],
   "source": [
    "print(data.to_string(index=False))"
   ]
  },
  {
   "cell_type": "code",
   "execution_count": 42,
   "id": "4faebd1c-08f9-457e-9bab-10989ab62cab",
   "metadata": {},
   "outputs": [
    {
     "data": {
      "text/html": [
       "<div>\n",
       "<style scoped>\n",
       "    .dataframe tbody tr th:only-of-type {\n",
       "        vertical-align: middle;\n",
       "    }\n",
       "\n",
       "    .dataframe tbody tr th {\n",
       "        vertical-align: top;\n",
       "    }\n",
       "\n",
       "    .dataframe thead th {\n",
       "        text-align: right;\n",
       "    }\n",
       "</style>\n",
       "<table border=\"1\" class=\"dataframe\">\n",
       "  <thead>\n",
       "    <tr style=\"text-align: right;\">\n",
       "      <th></th>\n",
       "      <th>name</th>\n",
       "      <th>coluer</th>\n",
       "      <th>fuel</th>\n",
       "    </tr>\n",
       "  </thead>\n",
       "  <tbody>\n",
       "    <tr>\n",
       "      <th>0</th>\n",
       "      <td>toyota</td>\n",
       "      <td>red</td>\n",
       "      <td>CNG</td>\n",
       "    </tr>\n",
       "    <tr>\n",
       "      <th>1</th>\n",
       "      <td>maruti</td>\n",
       "      <td>black</td>\n",
       "      <td>petrol</td>\n",
       "    </tr>\n",
       "    <tr>\n",
       "      <th>2</th>\n",
       "      <td>fortuner</td>\n",
       "      <td>white</td>\n",
       "      <td>gas</td>\n",
       "    </tr>\n",
       "    <tr>\n",
       "      <th>3</th>\n",
       "      <td>thar</td>\n",
       "      <td>blur light</td>\n",
       "      <td>CNG</td>\n",
       "    </tr>\n",
       "    <tr>\n",
       "      <th>4</th>\n",
       "      <td>fourwhiler</td>\n",
       "      <td>pista</td>\n",
       "      <td>disel</td>\n",
       "    </tr>\n",
       "  </tbody>\n",
       "</table>\n",
       "</div>"
      ],
      "text/plain": [
       "         name      coluer    fuel\n",
       "0      toyota         red     CNG\n",
       "1      maruti       black  petrol\n",
       "2    fortuner       white     gas\n",
       "3        thar  blur light     CNG\n",
       "4  fourwhiler       pista   disel"
      ]
     },
     "execution_count": 42,
     "metadata": {},
     "output_type": "execute_result"
    }
   ],
   "source": [
    "df"
   ]
  },
  {
   "cell_type": "code",
   "execution_count": 43,
   "id": "a8e89876-cb44-422c-851f-30749df06e19",
   "metadata": {},
   "outputs": [
    {
     "name": "stdout",
     "output_type": "stream",
     "text": [
      "red\n"
     ]
    },
    {
     "name": "stderr",
     "output_type": "stream",
     "text": [
      "C:\\Users\\BHAGYASHRI JADHAV\\AppData\\Local\\Temp\\ipykernel_9556\\2626746826.py:1: FutureWarning: Series.__getitem__ treating keys as positions is deprecated. In a future version, integer keys will always be treated as labels (consistent with DataFrame behavior). To access a value by position, use `ser.iloc[pos]`\n",
      "  print(df.loc[0][1])\n"
     ]
    }
   ],
   "source": [
    "print(df.loc[0][1])"
   ]
  },
  {
   "cell_type": "code",
   "execution_count": 44,
   "id": "a89b8c5b-fb52-4646-bdc8-05dd9a5b2d48",
   "metadata": {},
   "outputs": [
    {
     "name": "stdout",
     "output_type": "stream",
     "text": [
      "pista\n"
     ]
    },
    {
     "name": "stderr",
     "output_type": "stream",
     "text": [
      "C:\\Users\\BHAGYASHRI JADHAV\\AppData\\Local\\Temp\\ipykernel_9556\\3171438153.py:1: FutureWarning: Series.__getitem__ treating keys as positions is deprecated. In a future version, integer keys will always be treated as labels (consistent with DataFrame behavior). To access a value by position, use `ser.iloc[pos]`\n",
      "  print(df.loc[4][1])\n"
     ]
    }
   ],
   "source": [
    "print(df.loc[4][1])"
   ]
  },
  {
   "cell_type": "code",
   "execution_count": 45,
   "id": "f3cd0292-7eec-4128-a09e-30e63d84fa33",
   "metadata": {},
   "outputs": [
    {
     "name": "stderr",
     "output_type": "stream",
     "text": [
      "C:\\Users\\BHAGYASHRI JADHAV\\AppData\\Local\\Temp\\ipykernel_9556\\1811269667.py:1: FutureWarning: ChainedAssignmentError: behaviour will change in pandas 3.0!\n",
      "You are setting values through chained assignment. Currently this works in certain cases, but when using Copy-on-Write (which will become the default behaviour in pandas 3.0) this will never work to update the original DataFrame or Series, because the intermediate object on which we are setting values will behave as a copy.\n",
      "A typical example is when you are setting values in a column of a DataFrame, like:\n",
      "\n",
      "df[\"col\"][row_indexer] = value\n",
      "\n",
      "Use `df.loc[row_indexer, \"col\"] = values` instead, to perform the assignment in a single step and ensure this keeps updating the original `df`.\n",
      "\n",
      "See the caveats in the documentation: https://pandas.pydata.org/pandas-docs/stable/user_guide/indexing.html#returning-a-view-versus-a-copy\n",
      "\n",
      "  df.loc[4][1] = \"Gray\"\n",
      "C:\\Users\\BHAGYASHRI JADHAV\\AppData\\Local\\Temp\\ipykernel_9556\\1811269667.py:1: FutureWarning: Series.__setitem__ treating keys as positions is deprecated. In a future version, integer keys will always be treated as labels (consistent with DataFrame behavior). To set a value by position, use `ser.iloc[pos] = value`\n",
      "  df.loc[4][1] = \"Gray\"\n"
     ]
    }
   ],
   "source": [
    "df.loc[4][1] = \"Gray\""
   ]
  },
  {
   "cell_type": "code",
   "execution_count": 46,
   "id": "7b104e79-1e6c-4672-917b-4ef5cb040fcd",
   "metadata": {},
   "outputs": [
    {
     "data": {
      "text/html": [
       "<div>\n",
       "<style scoped>\n",
       "    .dataframe tbody tr th:only-of-type {\n",
       "        vertical-align: middle;\n",
       "    }\n",
       "\n",
       "    .dataframe tbody tr th {\n",
       "        vertical-align: top;\n",
       "    }\n",
       "\n",
       "    .dataframe thead th {\n",
       "        text-align: right;\n",
       "    }\n",
       "</style>\n",
       "<table border=\"1\" class=\"dataframe\">\n",
       "  <thead>\n",
       "    <tr style=\"text-align: right;\">\n",
       "      <th></th>\n",
       "      <th>name</th>\n",
       "      <th>coluer</th>\n",
       "      <th>fuel</th>\n",
       "    </tr>\n",
       "  </thead>\n",
       "  <tbody>\n",
       "    <tr>\n",
       "      <th>0</th>\n",
       "      <td>toyota</td>\n",
       "      <td>red</td>\n",
       "      <td>CNG</td>\n",
       "    </tr>\n",
       "    <tr>\n",
       "      <th>1</th>\n",
       "      <td>maruti</td>\n",
       "      <td>black</td>\n",
       "      <td>petrol</td>\n",
       "    </tr>\n",
       "    <tr>\n",
       "      <th>2</th>\n",
       "      <td>fortuner</td>\n",
       "      <td>white</td>\n",
       "      <td>gas</td>\n",
       "    </tr>\n",
       "    <tr>\n",
       "      <th>3</th>\n",
       "      <td>thar</td>\n",
       "      <td>blur light</td>\n",
       "      <td>CNG</td>\n",
       "    </tr>\n",
       "    <tr>\n",
       "      <th>4</th>\n",
       "      <td>fourwhiler</td>\n",
       "      <td>Gray</td>\n",
       "      <td>disel</td>\n",
       "    </tr>\n",
       "  </tbody>\n",
       "</table>\n",
       "</div>"
      ],
      "text/plain": [
       "         name      coluer    fuel\n",
       "0      toyota         red     CNG\n",
       "1      maruti       black  petrol\n",
       "2    fortuner       white     gas\n",
       "3        thar  blur light     CNG\n",
       "4  fourwhiler        Gray   disel"
      ]
     },
     "execution_count": 46,
     "metadata": {},
     "output_type": "execute_result"
    }
   ],
   "source": [
    "df"
   ]
  },
  {
   "cell_type": "code",
   "execution_count": null,
   "id": "94eb3503-f543-4eaa-96ed-a2b7158adb7e",
   "metadata": {},
   "outputs": [],
   "source": []
  }
 ],
 "metadata": {
  "kernelspec": {
   "display_name": "Python 3 (ipykernel)",
   "language": "python",
   "name": "python3"
  },
  "language_info": {
   "codemirror_mode": {
    "name": "ipython",
    "version": 3
   },
   "file_extension": ".py",
   "mimetype": "text/x-python",
   "name": "python",
   "nbconvert_exporter": "python",
   "pygments_lexer": "ipython3",
   "version": "3.13.5"
  }
 },
 "nbformat": 4,
 "nbformat_minor": 5
}
